{
 "cells": [
  {
   "cell_type": "markdown",
   "id": "c8355dde",
   "metadata": {},
   "source": [
    "Shift + Enter- Execute active script\n"
   ]
  },
  {
   "cell_type": "markdown",
   "id": "2c32bd45",
   "metadata": {},
   "source": [
    "Code - Code cells allow you to write and run code\n",
    "Esc +a - to create a cell above\n",
    "Esc +b - to create a cell below\n"
   ]
  },
  {
   "cell_type": "markdown",
   "id": "1e3e25fc",
   "metadata": {},
   "source": [
    "Markdown - M\n",
    "Click  esc+ M in command mode"
   ]
  },
  {
   "cell_type": "markdown",
   "id": "0b7a84d9",
   "metadata": {},
   "source": [
    "Variable - \n",
    "Should always start with lower case letter\n",
    "use _ for seperating words. not space\n",
    "Do not use upper case characters\n",
    "use _ at the starting of the variable in special cases only"
   ]
  }
 ],
 "metadata": {
  "kernelspec": {
   "display_name": "Python 3 (ipykernel)",
   "language": "python",
   "name": "python3"
  },
  "language_info": {
   "codemirror_mode": {
    "name": "ipython",
    "version": 3
   },
   "file_extension": ".py",
   "mimetype": "text/x-python",
   "name": "python",
   "nbconvert_exporter": "python",
   "pygments_lexer": "ipython3",
   "version": "3.9.7"
  }
 },
 "nbformat": 4,
 "nbformat_minor": 5
}
