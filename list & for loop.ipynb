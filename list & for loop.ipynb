{
 "cells": [
  {
   "cell_type": "code",
   "execution_count": 18,
   "id": "217b9f33",
   "metadata": {},
   "outputs": [],
   "source": [
    "l=['bp','sugar','blood%']"
   ]
  },
  {
   "cell_type": "code",
   "execution_count": 19,
   "id": "4118a39e",
   "metadata": {},
   "outputs": [
    {
     "data": {
      "text/plain": [
       "['bp', 'sugar', 'blood%']"
      ]
     },
     "execution_count": 19,
     "metadata": {},
     "output_type": "execute_result"
    }
   ],
   "source": [
    "l"
   ]
  },
  {
   "cell_type": "code",
   "execution_count": 21,
   "id": "e62f5648",
   "metadata": {},
   "outputs": [
    {
     "name": "stdout",
     "output_type": "stream",
     "text": [
      "bp test completed\n",
      "sugar test completed\n",
      "blood% test completed\n"
     ]
    }
   ],
   "source": [
    "for i in l:\n",
    "    print(f\"{i} test completed\")"
   ]
  },
  {
   "cell_type": "code",
   "execution_count": 22,
   "id": "fbe977d7",
   "metadata": {},
   "outputs": [
    {
     "name": "stdout",
     "output_type": "stream",
     "text": [
      "bp test completed\n",
      "sugar test completed\n",
      "blood% test completed\n",
      "collect your reports\n"
     ]
    }
   ],
   "source": [
    "for i in l:\n",
    "    print(f\"{i} test completed\")\n",
    "print('collect your reports')"
   ]
  },
  {
   "cell_type": "code",
   "execution_count": 23,
   "id": "a13165e3",
   "metadata": {},
   "outputs": [
    {
     "name": "stdout",
     "output_type": "stream",
     "text": [
      "bp test completed\n",
      "collect your reports\n",
      "sugar test completed\n",
      "collect your reports\n",
      "blood% test completed\n",
      "collect your reports\n"
     ]
    }
   ],
   "source": [
    "for i in l:\n",
    "    print(f\"{i} test completed\")\n",
    "    print('collect your reports')"
   ]
  },
  {
   "cell_type": "code",
   "execution_count": 24,
   "id": "1c409335",
   "metadata": {},
   "outputs": [
    {
     "name": "stdout",
     "output_type": "stream",
     "text": [
      "bp test completed\n",
      "collect your reports\n",
      "sugar test completed\n",
      "collect your reports\n"
     ]
    }
   ],
   "source": [
    "for i in l[0:2]:\n",
    "    print(f\"{i} test completed\")\n",
    "    print('collect your reports')"
   ]
  },
  {
   "cell_type": "code",
   "execution_count": 25,
   "id": "de360ad9",
   "metadata": {},
   "outputs": [],
   "source": [
    "g=['TSH','glucose']"
   ]
  },
  {
   "cell_type": "code",
   "execution_count": 26,
   "id": "1b6a647e",
   "metadata": {},
   "outputs": [
    {
     "name": "stdout",
     "output_type": "stream",
     "text": [
      "bp test completed\n",
      "we need to check your TSH levels\n",
      "we need to check your glucose levels\n",
      "sugar test completed\n",
      "we need to check your TSH levels\n",
      "we need to check your glucose levels\n",
      "blood% test completed\n",
      "we need to check your TSH levels\n",
      "we need to check your glucose levels\n",
      "collect your reports\n"
     ]
    }
   ],
   "source": [
    "for i in l:\n",
    "    print(f\"{i} test completed\")\n",
    "    for m in g:\n",
    "        print(f\"we need to check your {m} levels\")\n",
    "print('collect your reports')"
   ]
  },
  {
   "cell_type": "code",
   "execution_count": 27,
   "id": "52e75c7b",
   "metadata": {},
   "outputs": [
    {
     "name": "stdout",
     "output_type": "stream",
     "text": [
      "bp test completed\n",
      "sugar test completed\n",
      "blood% test completed\n"
     ]
    }
   ],
   "source": [
    "for i in l:\n",
    "    \n",
    "    print(f\"{i} test completed\")"
   ]
  },
  {
   "cell_type": "code",
   "execution_count": 29,
   "id": "152eef97",
   "metadata": {},
   "outputs": [
    {
     "name": "stdout",
     "output_type": "stream",
     "text": [
      "bp test completed\n",
      "we need to check your TSH levels\n",
      "we need to check your glucose levels\n",
      "collect your reports\n",
      "sugar test completed\n",
      "we need to check your TSH levels\n",
      "we need to check your glucose levels\n",
      "collect your reports\n",
      "blood% test completed\n",
      "we need to check your TSH levels\n",
      "we need to check your glucose levels\n",
      "collect your reports\n"
     ]
    }
   ],
   "source": [
    "for i in l:\n",
    "    print(f\"{i} test completed\")\n",
    "    for m in g:\n",
    "        print(f\"we need to check your {m} levels\")\n",
    "    print('collect your reports')"
   ]
  },
  {
   "cell_type": "code",
   "execution_count": 30,
   "id": "5240cc4d",
   "metadata": {},
   "outputs": [
    {
     "data": {
      "text/plain": [
       "['bp', 'sugar', 'blood%']"
      ]
     },
     "execution_count": 30,
     "metadata": {},
     "output_type": "execute_result"
    }
   ],
   "source": [
    "l"
   ]
  },
  {
   "cell_type": "code",
   "execution_count": 31,
   "id": "be78674c",
   "metadata": {},
   "outputs": [],
   "source": [
    "k=l[0]"
   ]
  },
  {
   "cell_type": "code",
   "execution_count": 32,
   "id": "669727fd",
   "metadata": {},
   "outputs": [
    {
     "data": {
      "text/plain": [
       "'bp'"
      ]
     },
     "execution_count": 32,
     "metadata": {},
     "output_type": "execute_result"
    }
   ],
   "source": [
    "k"
   ]
  },
  {
   "cell_type": "code",
   "execution_count": 33,
   "id": "cdc4bdf8",
   "metadata": {},
   "outputs": [],
   "source": [
    "num=range(0,4)"
   ]
  },
  {
   "cell_type": "code",
   "execution_count": 34,
   "id": "10c1ecd3",
   "metadata": {},
   "outputs": [
    {
     "data": {
      "text/plain": [
       "range(0, 4)"
      ]
     },
     "execution_count": 34,
     "metadata": {},
     "output_type": "execute_result"
    }
   ],
   "source": [
    "num"
   ]
  },
  {
   "cell_type": "code",
   "execution_count": 35,
   "id": "e7d673a2",
   "metadata": {},
   "outputs": [
    {
     "name": "stdout",
     "output_type": "stream",
     "text": [
      "0\n",
      "1\n",
      "2\n",
      "3\n"
     ]
    }
   ],
   "source": [
    "for i in num:\n",
    "    print(i)"
   ]
  },
  {
   "cell_type": "code",
   "execution_count": 36,
   "id": "50b30b6e",
   "metadata": {},
   "outputs": [
    {
     "data": {
      "text/plain": [
       "['b', 'p']"
      ]
     },
     "execution_count": 36,
     "metadata": {},
     "output_type": "execute_result"
    }
   ],
   "source": [
    "list(k)"
   ]
  },
  {
   "cell_type": "code",
   "execution_count": 37,
   "id": "ebe13253",
   "metadata": {},
   "outputs": [],
   "source": [
    "num=list(range(0,4))"
   ]
  },
  {
   "cell_type": "code",
   "execution_count": 38,
   "id": "6c235751",
   "metadata": {},
   "outputs": [
    {
     "data": {
      "text/plain": [
       "[0, 1, 2, 3]"
      ]
     },
     "execution_count": 38,
     "metadata": {},
     "output_type": "execute_result"
    }
   ],
   "source": [
    "num"
   ]
  },
  {
   "cell_type": "code",
   "execution_count": 76,
   "id": "c7a1e588",
   "metadata": {
    "scrolled": true
   },
   "outputs": [
    {
     "name": "stdout",
     "output_type": "stream",
     "text": [
      "0\n",
      "1\n",
      "2\n",
      "3\n"
     ]
    }
   ],
   "source": [
    "for i in num:\n",
    "    print(i)"
   ]
  },
  {
   "cell_type": "code",
   "execution_count": 78,
   "id": "7f10c526",
   "metadata": {},
   "outputs": [
    {
     "name": "stdout",
     "output_type": "stream",
     "text": [
      "0\n",
      "1\n",
      "2\n"
     ]
    }
   ],
   "source": [
    "for i in num[0:3]:\n",
    "    print(i)"
   ]
  },
  {
   "cell_type": "code",
   "execution_count": 79,
   "id": "18926df0",
   "metadata": {},
   "outputs": [
    {
     "name": "stdout",
     "output_type": "stream",
     "text": [
      "0\n",
      "1\n",
      "2\n",
      "3\n"
     ]
    }
   ],
   "source": [
    "for i in num[:]:\n",
    "    print(i)"
   ]
  },
  {
   "cell_type": "markdown",
   "id": "1bf8b943",
   "metadata": {},
   "source": [
    "#### generating cubes of first 10 natural numbers"
   ]
  },
  {
   "cell_type": "code",
   "execution_count": 39,
   "id": "f0de58e5",
   "metadata": {},
   "outputs": [],
   "source": [
    "n=range(0,10)"
   ]
  },
  {
   "cell_type": "code",
   "execution_count": 51,
   "id": "4b24c864",
   "metadata": {},
   "outputs": [
    {
     "name": "stdout",
     "output_type": "stream",
     "text": [
      "[0, 1, 8, 27, 64, 125, 216, 343, 512, 729]\n"
     ]
    }
   ],
   "source": [
    "c=[]\n",
    "for i in n:\n",
    "    cube=i*i*i\n",
    "    c.append(cube)\n",
    "print(c)"
   ]
  },
  {
   "cell_type": "code",
   "execution_count": 52,
   "id": "8f061142",
   "metadata": {},
   "outputs": [
    {
     "data": {
      "text/plain": [
       "0"
      ]
     },
     "execution_count": 52,
     "metadata": {},
     "output_type": "execute_result"
    }
   ],
   "source": [
    "min(c)"
   ]
  },
  {
   "cell_type": "code",
   "execution_count": 53,
   "id": "30ee9b4f",
   "metadata": {},
   "outputs": [
    {
     "data": {
      "text/plain": [
       "729"
      ]
     },
     "execution_count": 53,
     "metadata": {},
     "output_type": "execute_result"
    }
   ],
   "source": [
    "max(c)"
   ]
  },
  {
   "cell_type": "code",
   "execution_count": 54,
   "id": "f2df89a4",
   "metadata": {},
   "outputs": [
    {
     "data": {
      "text/plain": [
       "2025"
      ]
     },
     "execution_count": 54,
     "metadata": {},
     "output_type": "execute_result"
    }
   ],
   "source": [
    "sum(c)"
   ]
  },
  {
   "cell_type": "code",
   "execution_count": 55,
   "id": "5b0f3a34",
   "metadata": {},
   "outputs": [
    {
     "data": {
      "text/plain": [
       "[729, 512, 343, 216, 125, 64, 27, 8, 1, 0]"
      ]
     },
     "execution_count": 55,
     "metadata": {},
     "output_type": "execute_result"
    }
   ],
   "source": [
    "c[::-1]"
   ]
  },
  {
   "cell_type": "code",
   "execution_count": 56,
   "id": "b5c17364",
   "metadata": {},
   "outputs": [],
   "source": [
    "c.reverse()"
   ]
  },
  {
   "cell_type": "code",
   "execution_count": 57,
   "id": "8e2bf120",
   "metadata": {},
   "outputs": [
    {
     "data": {
      "text/plain": [
       "[729, 512, 343, 216, 125, 64, 27, 8, 1, 0]"
      ]
     },
     "execution_count": 57,
     "metadata": {},
     "output_type": "execute_result"
    }
   ],
   "source": [
    "c"
   ]
  },
  {
   "cell_type": "code",
   "execution_count": 58,
   "id": "211eb62d",
   "metadata": {},
   "outputs": [
    {
     "data": {
      "text/plain": [
       "[0, 1, 8, 27, 64, 125, 216, 343, 512, 729]"
      ]
     },
     "execution_count": 58,
     "metadata": {},
     "output_type": "execute_result"
    }
   ],
   "source": [
    "sorted(c)"
   ]
  },
  {
   "cell_type": "code",
   "execution_count": 59,
   "id": "204005a3",
   "metadata": {},
   "outputs": [
    {
     "data": {
      "text/plain": [
       "[0, 1, 8, 27, 64, 125, 216, 343, 512, 729]"
      ]
     },
     "execution_count": 59,
     "metadata": {},
     "output_type": "execute_result"
    }
   ],
   "source": [
    "sorted(c,reverse=False)"
   ]
  },
  {
   "cell_type": "code",
   "execution_count": 60,
   "id": "6beb01e0",
   "metadata": {},
   "outputs": [
    {
     "data": {
      "text/plain": [
       "[729, 512, 343, 216, 125, 64, 27, 8, 1, 0]"
      ]
     },
     "execution_count": 60,
     "metadata": {},
     "output_type": "execute_result"
    }
   ],
   "source": [
    "sorted(c,reverse=True)"
   ]
  },
  {
   "cell_type": "code",
   "execution_count": 61,
   "id": "016361cd",
   "metadata": {},
   "outputs": [],
   "source": [
    "c.sort()"
   ]
  },
  {
   "cell_type": "code",
   "execution_count": 62,
   "id": "0370f01d",
   "metadata": {},
   "outputs": [
    {
     "data": {
      "text/plain": [
       "[0, 1, 8, 27, 64, 125, 216, 343, 512, 729]"
      ]
     },
     "execution_count": 62,
     "metadata": {},
     "output_type": "execute_result"
    }
   ],
   "source": [
    "c"
   ]
  },
  {
   "cell_type": "markdown",
   "id": "8ba76d0d",
   "metadata": {},
   "source": [
    "##### copying"
   ]
  },
  {
   "cell_type": "code",
   "execution_count": 63,
   "id": "2fbd3bc7",
   "metadata": {},
   "outputs": [],
   "source": [
    "x=c"
   ]
  },
  {
   "cell_type": "code",
   "execution_count": 64,
   "id": "3a807833",
   "metadata": {},
   "outputs": [],
   "source": [
    "c[0]='lamp'"
   ]
  },
  {
   "cell_type": "code",
   "execution_count": 65,
   "id": "79b07226",
   "metadata": {},
   "outputs": [
    {
     "data": {
      "text/plain": [
       "['lamp', 1, 8, 27, 64, 125, 216, 343, 512, 729]"
      ]
     },
     "execution_count": 65,
     "metadata": {},
     "output_type": "execute_result"
    }
   ],
   "source": [
    "c"
   ]
  },
  {
   "cell_type": "code",
   "execution_count": 66,
   "id": "6a1fb4a7",
   "metadata": {},
   "outputs": [
    {
     "data": {
      "text/plain": [
       "['lamp', 1, 8, 27, 64, 125, 216, 343, 512, 729]"
      ]
     },
     "execution_count": 66,
     "metadata": {},
     "output_type": "execute_result"
    }
   ],
   "source": [
    "x"
   ]
  },
  {
   "cell_type": "markdown",
   "id": "cd58ae4e",
   "metadata": {},
   "source": [
    "here the changes in c are getting reflected in x, it is not a proper copy. In order to copy it properly we need to do it in the following format"
   ]
  },
  {
   "cell_type": "code",
   "execution_count": 67,
   "id": "528f9cfc",
   "metadata": {},
   "outputs": [],
   "source": [
    "x=c[:]"
   ]
  },
  {
   "cell_type": "code",
   "execution_count": 68,
   "id": "de9e3b6e",
   "metadata": {},
   "outputs": [],
   "source": [
    "x[2]='mist'"
   ]
  },
  {
   "cell_type": "code",
   "execution_count": 69,
   "id": "f3799f04",
   "metadata": {},
   "outputs": [
    {
     "data": {
      "text/plain": [
       "['lamp', 1, 'mist', 27, 64, 125, 216, 343, 512, 729]"
      ]
     },
     "execution_count": 69,
     "metadata": {},
     "output_type": "execute_result"
    }
   ],
   "source": [
    "x"
   ]
  },
  {
   "cell_type": "code",
   "execution_count": 70,
   "id": "20795252",
   "metadata": {},
   "outputs": [
    {
     "data": {
      "text/plain": [
       "['lamp', 1, 8, 27, 64, 125, 216, 343, 512, 729]"
      ]
     },
     "execution_count": 70,
     "metadata": {},
     "output_type": "execute_result"
    }
   ],
   "source": [
    "c"
   ]
  },
  {
   "cell_type": "code",
   "execution_count": 71,
   "id": "7aca4a3b",
   "metadata": {},
   "outputs": [],
   "source": [
    "c[3]='fog'"
   ]
  },
  {
   "cell_type": "code",
   "execution_count": 72,
   "id": "39f961d0",
   "metadata": {},
   "outputs": [
    {
     "data": {
      "text/plain": [
       "['lamp', 1, 8, 'fog', 64, 125, 216, 343, 512, 729]"
      ]
     },
     "execution_count": 72,
     "metadata": {},
     "output_type": "execute_result"
    }
   ],
   "source": [
    "c"
   ]
  },
  {
   "cell_type": "code",
   "execution_count": 73,
   "id": "502d59ec",
   "metadata": {},
   "outputs": [
    {
     "data": {
      "text/plain": [
       "['lamp', 1, 'mist', 27, 64, 125, 216, 343, 512, 729]"
      ]
     },
     "execution_count": 73,
     "metadata": {},
     "output_type": "execute_result"
    }
   ],
   "source": [
    "x"
   ]
  },
  {
   "cell_type": "code",
   "execution_count": null,
   "id": "c25d8037",
   "metadata": {},
   "outputs": [],
   "source": []
  }
 ],
 "metadata": {
  "kernelspec": {
   "display_name": "Python 3 (ipykernel)",
   "language": "python",
   "name": "python3"
  },
  "language_info": {
   "codemirror_mode": {
    "name": "ipython",
    "version": 3
   },
   "file_extension": ".py",
   "mimetype": "text/x-python",
   "name": "python",
   "nbconvert_exporter": "python",
   "pygments_lexer": "ipython3",
   "version": "3.9.7"
  }
 },
 "nbformat": 4,
 "nbformat_minor": 5
}
