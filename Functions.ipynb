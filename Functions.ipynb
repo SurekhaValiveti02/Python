{
 "cells": [
  {
   "cell_type": "code",
   "execution_count": 1,
   "id": "a6a69751",
   "metadata": {},
   "outputs": [
    {
     "data": {
      "text/plain": [
       "3"
      ]
     },
     "execution_count": 1,
     "metadata": {},
     "output_type": "execute_result"
    }
   ],
   "source": [
    "a=1\n",
    "b=2\n",
    "a+b"
   ]
  },
  {
   "cell_type": "code",
   "execution_count": 2,
   "id": "b10b4b97",
   "metadata": {},
   "outputs": [
    {
     "name": "stdout",
     "output_type": "stream",
     "text": [
      "1\n",
      "3\n"
     ]
    },
    {
     "data": {
      "text/plain": [
       "'13'"
      ]
     },
     "execution_count": 2,
     "metadata": {},
     "output_type": "execute_result"
    }
   ],
   "source": [
    "a=input()\n",
    "b=input()\n",
    "a+b"
   ]
  },
  {
   "cell_type": "markdown",
   "id": "acfe2002",
   "metadata": {},
   "source": [
    "input() - considers any input as string. inorder to over come that we need to do type conversion"
   ]
  },
  {
   "cell_type": "code",
   "execution_count": 3,
   "id": "d9961122",
   "metadata": {},
   "outputs": [
    {
     "name": "stdout",
     "output_type": "stream",
     "text": [
      "please enter a value:1\n",
      "please enter b value:2\n"
     ]
    },
    {
     "data": {
      "text/plain": [
       "3"
      ]
     },
     "execution_count": 3,
     "metadata": {},
     "output_type": "execute_result"
    }
   ],
   "source": [
    "a=int(input(\"please enter a value:\"))\n",
    "b=int(input(\"please enter b value:\"))\n",
    "a+b"
   ]
  },
  {
   "cell_type": "code",
   "execution_count": 4,
   "id": "7b962923",
   "metadata": {},
   "outputs": [
    {
     "name": "stdout",
     "output_type": "stream",
     "text": [
      "please enter a value:1\n",
      "please enter b value:2\n",
      "3\n",
      "please enter a value:4\n",
      "please enter b value:5\n",
      "9\n",
      "please enter a value:7\n",
      "please enter b value:9\n",
      "16\n",
      "please enter a value:3\n",
      "please enter b value:5\n",
      "8\n"
     ]
    }
   ],
   "source": [
    "a=int(input(\"please enter a value:\"))\n",
    "b=int(input(\"please enter b value:\"))\n",
    "x=a+b\n",
    "print(x)\n",
    "a=int(input(\"please enter a value:\"))\n",
    "b=int(input(\"please enter b value:\"))\n",
    "y=a+b\n",
    "print(y)\n",
    "a=int(input(\"please enter a value:\"))\n",
    "b=int(input(\"please enter b value:\"))\n",
    "z=a+b\n",
    "print(z)\n",
    "a=int(input(\"please enter a value:\"))\n",
    "b=int(input(\"please enter b value:\"))\n",
    "p=a+b\n",
    "print(p)"
   ]
  },
  {
   "cell_type": "markdown",
   "id": "84736165",
   "metadata": {},
   "source": [
    "to avoid the repetition of code we use functions"
   ]
  },
  {
   "cell_type": "code",
   "execution_count": 6,
   "id": "6d70a4e0",
   "metadata": {},
   "outputs": [],
   "source": [
    "def add():\n",
    "    a=int(input(\"please enter a value:\"))\n",
    "    b=int(input(\"please enter b value:\"))\n",
    "    x=a+b\n",
    "    print(x)"
   ]
  },
  {
   "cell_type": "code",
   "execution_count": 7,
   "id": "e071b07c",
   "metadata": {},
   "outputs": [
    {
     "name": "stdout",
     "output_type": "stream",
     "text": [
      "please enter a value:1\n",
      "please enter b value:3\n",
      "4\n"
     ]
    }
   ],
   "source": [
    "add()"
   ]
  },
  {
   "cell_type": "code",
   "execution_count": 9,
   "id": "44d4e9bf",
   "metadata": {},
   "outputs": [],
   "source": [
    "def sub():\n",
    "    a=int(input(\" a is:\"))\n",
    "    b=int(input(\" b is:\"))\n",
    "    minus=a-b\n",
    "    print(f\"difference of {a} and {b} is : {minus}\")"
   ]
  },
  {
   "cell_type": "code",
   "execution_count": 10,
   "id": "f467946c",
   "metadata": {},
   "outputs": [
    {
     "name": "stdout",
     "output_type": "stream",
     "text": [
      " a is:2\n",
      " b is:4\n",
      "difference of 2 and 4 is : -2\n"
     ]
    }
   ],
   "source": [
    "sub()"
   ]
  },
  {
   "cell_type": "code",
   "execution_count": 11,
   "id": "322aa37a",
   "metadata": {},
   "outputs": [],
   "source": [
    "def sub():\n",
    "    a=int(input(\" a is:\"))\n",
    "    b=int(input(\" b is:\"))\n",
    "    if a>b:\n",
    "        minus=a-b\n",
    "        print(f\"difference of {a} and {b} is : {minus}\")\n",
    "    else:\n",
    "        print(f\"{a} < {b}\")"
   ]
  },
  {
   "cell_type": "code",
   "execution_count": 12,
   "id": "51b1d8cc",
   "metadata": {},
   "outputs": [
    {
     "name": "stdout",
     "output_type": "stream",
     "text": [
      " a is:2\n",
      " b is:1\n",
      "difference of 2 and 1 is : 1\n"
     ]
    }
   ],
   "source": [
    "sub()"
   ]
  },
  {
   "cell_type": "code",
   "execution_count": 14,
   "id": "b906b695",
   "metadata": {},
   "outputs": [
    {
     "name": "stdout",
     "output_type": "stream",
     "text": [
      " a is:1\n",
      " b is:3\n",
      "1 < 3\n"
     ]
    }
   ],
   "source": [
    "sub()"
   ]
  },
  {
   "cell_type": "code",
   "execution_count": 15,
   "id": "1f7af355",
   "metadata": {},
   "outputs": [],
   "source": [
    "def sub(a,b):\n",
    "    if a>b:\n",
    "        minus=a-b\n",
    "        print(f\"difference of {a} and {b} is : {minus}\")\n",
    "    else:\n",
    "        print(f\"{a} < {b}\")"
   ]
  },
  {
   "cell_type": "code",
   "execution_count": 16,
   "id": "33f4dd11",
   "metadata": {},
   "outputs": [
    {
     "name": "stdout",
     "output_type": "stream",
     "text": [
      "1 < 2\n"
     ]
    }
   ],
   "source": [
    "sub(1,2)"
   ]
  },
  {
   "cell_type": "code",
   "execution_count": 17,
   "id": "44291d58",
   "metadata": {},
   "outputs": [
    {
     "name": "stdout",
     "output_type": "stream",
     "text": [
      "difference of 3 and 1 is : 2\n"
     ]
    }
   ],
   "source": [
    "sub(3,1)"
   ]
  },
  {
   "cell_type": "markdown",
   "id": "2c149a84",
   "metadata": {},
   "source": [
    "#### Types of arguments\n",
    "1. Positional Arguments - We should maintain order of arguments.\n",
    "2. Keyword Arguments    - We need to specify the arguments (a=1,b=2).\n",
    "3. Default Arguments    - We will be specifying the arguments in the function definition itself. It is not mandatory to specify                           these arguments again in the function calling.\n",
    "4. Optional Arguments   -If an argument is not necessarily expected then we can specify it as optional argument. Generally any                          argument with 'None/Null' value is an optional argument.\n",
    "5. Arbitrary arguments  -If we don't know how many arguments will be passed into the function, then we will specify the                                  arbitrary arguments with a '*' before the argument. By this the function will get a tuple of arguments                          and access them accordingly. \n",
    "                         If we want a dictionary in the argument the we need to specify '**' before the argument in the                                  function definition"
   ]
  },
  {
   "cell_type": "markdown",
   "id": "c493ad0f",
   "metadata": {},
   "source": [
    "##### Positional arguments:"
   ]
  },
  {
   "cell_type": "code",
   "execution_count": 18,
   "id": "eefebbf4",
   "metadata": {},
   "outputs": [],
   "source": [
    "def sub(a,b):\n",
    "    x=a-b\n",
    "    print(x)"
   ]
  },
  {
   "cell_type": "code",
   "execution_count": 19,
   "id": "17f0d060",
   "metadata": {},
   "outputs": [
    {
     "name": "stdout",
     "output_type": "stream",
     "text": [
      "1\n"
     ]
    }
   ],
   "source": [
    "sub(2,1)"
   ]
  },
  {
   "cell_type": "code",
   "execution_count": 20,
   "id": "f56c6f37",
   "metadata": {},
   "outputs": [
    {
     "name": "stdout",
     "output_type": "stream",
     "text": [
      "-1\n"
     ]
    }
   ],
   "source": [
    "sub(1,2)"
   ]
  },
  {
   "cell_type": "markdown",
   "id": "05bbfe4f",
   "metadata": {},
   "source": [
    "##### Key word arguments:"
   ]
  },
  {
   "cell_type": "code",
   "execution_count": 21,
   "id": "cf12ecd6",
   "metadata": {},
   "outputs": [],
   "source": [
    "def sub(a,b):\n",
    "    x=a-b\n",
    "    print(x)"
   ]
  },
  {
   "cell_type": "code",
   "execution_count": 22,
   "id": "ffc1beab",
   "metadata": {},
   "outputs": [
    {
     "name": "stdout",
     "output_type": "stream",
     "text": [
      "2\n"
     ]
    }
   ],
   "source": [
    "sub(a=5,b=3)"
   ]
  },
  {
   "cell_type": "code",
   "execution_count": 24,
   "id": "35dbdd81",
   "metadata": {
    "scrolled": true
   },
   "outputs": [
    {
     "name": "stdout",
     "output_type": "stream",
     "text": [
      "5\n"
     ]
    }
   ],
   "source": [
    "sub(a=8,b=3)"
   ]
  },
  {
   "cell_type": "markdown",
   "id": "78749642",
   "metadata": {},
   "source": [
    "##### Default arguments"
   ]
  },
  {
   "cell_type": "code",
   "execution_count": 25,
   "id": "906e7eac",
   "metadata": {},
   "outputs": [],
   "source": [
    "def std_info(name,roll_no,school_name='Siddhardha Public School'):\n",
    "    print(f\"My name is {name} with roll {roll_no}. I am studying in {school_name}\")"
   ]
  },
  {
   "cell_type": "code",
   "execution_count": 26,
   "id": "df0d4381",
   "metadata": {},
   "outputs": [
    {
     "name": "stdout",
     "output_type": "stream",
     "text": [
      "My name is Surekha with roll 23. I am studying in Siddhardha Public School\n"
     ]
    }
   ],
   "source": [
    "std_info('Surekha','23')"
   ]
  },
  {
   "cell_type": "code",
   "execution_count": 27,
   "id": "dc2645a2",
   "metadata": {},
   "outputs": [
    {
     "name": "stdout",
     "output_type": "stream",
     "text": [
      "My name is Surekha with roll 23. I am studying in Pavan School\n"
     ]
    }
   ],
   "source": [
    "std_info('Surekha','23','Pavan School')"
   ]
  },
  {
   "cell_type": "markdown",
   "id": "9cf0e0bb",
   "metadata": {},
   "source": [
    "#### Optional arguments`"
   ]
  },
  {
   "cell_type": "code",
   "execution_count": 30,
   "id": "d3a8223e",
   "metadata": {},
   "outputs": [],
   "source": [
    "def std_info(name,school_name,roll_no=''):\n",
    "    print(f\"My name is {name} with roll {roll_no}. I am studying in {school_name}\")"
   ]
  },
  {
   "cell_type": "code",
   "execution_count": 31,
   "id": "e33a5c45",
   "metadata": {},
   "outputs": [
    {
     "name": "stdout",
     "output_type": "stream",
     "text": [
      "My name is Arun with roll . I am studying in Siddhardha Public School\n"
     ]
    }
   ],
   "source": [
    "std_info('Arun','Siddhardha Public School')"
   ]
  },
  {
   "cell_type": "code",
   "execution_count": 32,
   "id": "87129812",
   "metadata": {},
   "outputs": [
    {
     "name": "stdout",
     "output_type": "stream",
     "text": [
      "My name is Ravi with roll 3. I am studying in Siddhardha Public School\n"
     ]
    }
   ],
   "source": [
    "std_info('Ravi','Siddhardha Public School',3)"
   ]
  },
  {
   "cell_type": "code",
   "execution_count": 33,
   "id": "b1ae9822",
   "metadata": {},
   "outputs": [],
   "source": [
    "def std_info(name,school_name,roll_no=''):\n",
    "    if roll_no:\n",
    "        print(f\"My name is {name} with roll {roll_no}. I am studying in {school_name}\")\n",
    "    else:\n",
    "        print(f\"My name is {name}. I am studying in {school_name}\")"
   ]
  },
  {
   "cell_type": "code",
   "execution_count": 34,
   "id": "70cb5a34",
   "metadata": {},
   "outputs": [
    {
     "name": "stdout",
     "output_type": "stream",
     "text": [
      "My name is Rajesh. I am studying in Pavan School\n"
     ]
    }
   ],
   "source": [
    "std_info('Rajesh','Pavan School')"
   ]
  },
  {
   "cell_type": "code",
   "execution_count": 35,
   "id": "feb9db7d",
   "metadata": {},
   "outputs": [
    {
     "name": "stdout",
     "output_type": "stream",
     "text": [
      "My name is Surekha with roll 23. I am studying in Siddhardha Public School\n"
     ]
    }
   ],
   "source": [
    "std_info('Surekha','Siddhardha Public School',23)"
   ]
  },
  {
   "cell_type": "code",
   "execution_count": null,
   "id": "a6413006",
   "metadata": {},
   "outputs": [],
   "source": []
  }
 ],
 "metadata": {
  "kernelspec": {
   "display_name": "Python 3 (ipykernel)",
   "language": "python",
   "name": "python3"
  },
  "language_info": {
   "codemirror_mode": {
    "name": "ipython",
    "version": 3
   },
   "file_extension": ".py",
   "mimetype": "text/x-python",
   "name": "python",
   "nbconvert_exporter": "python",
   "pygments_lexer": "ipython3",
   "version": "3.9.7"
  }
 },
 "nbformat": 4,
 "nbformat_minor": 5
}
