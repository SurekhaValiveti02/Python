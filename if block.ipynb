{
 "cells": [
  {
   "cell_type": "markdown",
   "id": "5cbb8c33",
   "metadata": {},
   "source": [
    "##### Boolean operators"
   ]
  },
  {
   "cell_type": "code",
   "execution_count": 1,
   "id": "e8769d1e",
   "metadata": {},
   "outputs": [],
   "source": [
    "l=['key board','mouse','cpu','laptop','monitor','head phones']"
   ]
  },
  {
   "cell_type": "code",
   "execution_count": 2,
   "id": "97def43e",
   "metadata": {
    "scrolled": true
   },
   "outputs": [
    {
     "name": "stdout",
     "output_type": "stream",
     "text": [
      "key board\n",
      "mouse\n",
      "cpu\n",
      "laptop\n",
      "monitor\n",
      "head phones\n"
     ]
    }
   ],
   "source": [
    "for device in l:\n",
    "    print(device)"
   ]
  },
  {
   "cell_type": "code",
   "execution_count": 3,
   "id": "62ce3b20",
   "metadata": {},
   "outputs": [
    {
     "data": {
      "text/plain": [
       "False"
      ]
     },
     "execution_count": 3,
     "metadata": {},
     "output_type": "execute_result"
    }
   ],
   "source": [
    "l[0]=='keyboard'"
   ]
  },
  {
   "cell_type": "code",
   "execution_count": 4,
   "id": "10331260",
   "metadata": {},
   "outputs": [
    {
     "data": {
      "text/plain": [
       "True"
      ]
     },
     "execution_count": 4,
     "metadata": {},
     "output_type": "execute_result"
    }
   ],
   "source": [
    "l[0]=='key board'"
   ]
  },
  {
   "cell_type": "code",
   "execution_count": 5,
   "id": "f23eb847",
   "metadata": {},
   "outputs": [
    {
     "data": {
      "text/plain": [
       "False"
      ]
     },
     "execution_count": 5,
     "metadata": {},
     "output_type": "execute_result"
    }
   ],
   "source": [
    "l[0]=='Key board'"
   ]
  },
  {
   "cell_type": "code",
   "execution_count": 6,
   "id": "0265fa5f",
   "metadata": {},
   "outputs": [],
   "source": [
    "f='surekha'"
   ]
  },
  {
   "cell_type": "code",
   "execution_count": 7,
   "id": "637fdc23",
   "metadata": {},
   "outputs": [
    {
     "data": {
      "text/plain": [
       "True"
      ]
     },
     "execution_count": 7,
     "metadata": {},
     "output_type": "execute_result"
    }
   ],
   "source": [
    "f.lower()=='surekha'"
   ]
  },
  {
   "cell_type": "code",
   "execution_count": 8,
   "id": "65ea5cdd",
   "metadata": {},
   "outputs": [
    {
     "data": {
      "text/plain": [
       "True"
      ]
     },
     "execution_count": 8,
     "metadata": {},
     "output_type": "execute_result"
    }
   ],
   "source": [
    "f.upper()=='SUREKHA'"
   ]
  },
  {
   "cell_type": "code",
   "execution_count": 9,
   "id": "bee3ba43",
   "metadata": {},
   "outputs": [
    {
     "data": {
      "text/plain": [
       "True"
      ]
     },
     "execution_count": 9,
     "metadata": {},
     "output_type": "execute_result"
    }
   ],
   "source": [
    "f.capitalize()=='Surekha'"
   ]
  },
  {
   "cell_type": "code",
   "execution_count": 10,
   "id": "70c7cd59",
   "metadata": {},
   "outputs": [
    {
     "data": {
      "text/plain": [
       "True"
      ]
     },
     "execution_count": 10,
     "metadata": {},
     "output_type": "execute_result"
    }
   ],
   "source": [
    "f!='surekhaa'"
   ]
  },
  {
   "cell_type": "code",
   "execution_count": 11,
   "id": "26c76274",
   "metadata": {},
   "outputs": [],
   "source": [
    "num=56"
   ]
  },
  {
   "cell_type": "code",
   "execution_count": 12,
   "id": "1056a6e0",
   "metadata": {},
   "outputs": [
    {
     "data": {
      "text/plain": [
       "False"
      ]
     },
     "execution_count": 12,
     "metadata": {},
     "output_type": "execute_result"
    }
   ],
   "source": [
    "num==46"
   ]
  },
  {
   "cell_type": "code",
   "execution_count": 13,
   "id": "dfe4bf9c",
   "metadata": {},
   "outputs": [
    {
     "data": {
      "text/plain": [
       "True"
      ]
     },
     "execution_count": 13,
     "metadata": {},
     "output_type": "execute_result"
    }
   ],
   "source": [
    "num!=98"
   ]
  },
  {
   "cell_type": "code",
   "execution_count": 14,
   "id": "900fe197",
   "metadata": {},
   "outputs": [
    {
     "data": {
      "text/plain": [
       "True"
      ]
     },
     "execution_count": 14,
     "metadata": {},
     "output_type": "execute_result"
    }
   ],
   "source": [
    "num<=99"
   ]
  },
  {
   "cell_type": "code",
   "execution_count": 15,
   "id": "52436e27",
   "metadata": {},
   "outputs": [
    {
     "data": {
      "text/plain": [
       "int"
      ]
     },
     "execution_count": 15,
     "metadata": {},
     "output_type": "execute_result"
    }
   ],
   "source": [
    "type(num)"
   ]
  },
  {
   "cell_type": "code",
   "execution_count": 16,
   "id": "417e3856",
   "metadata": {},
   "outputs": [],
   "source": [
    "a1='surekha'\n",
    "b1='rajesh'"
   ]
  },
  {
   "cell_type": "code",
   "execution_count": 17,
   "id": "ae74549b",
   "metadata": {},
   "outputs": [
    {
     "ename": "SyntaxError",
     "evalue": "cannot assign to operator (Temp/ipykernel_18772/2328696914.py, line 1)",
     "output_type": "error",
     "traceback": [
      "\u001b[1;36m  File \u001b[1;32m\"C:\\Users\\surek\\AppData\\Local\\Temp/ipykernel_18772/2328696914.py\"\u001b[1;36m, line \u001b[1;32m1\u001b[0m\n\u001b[1;33m    a1='surekha' and b1='rajesh'\u001b[0m\n\u001b[1;37m       ^\u001b[0m\n\u001b[1;31mSyntaxError\u001b[0m\u001b[1;31m:\u001b[0m cannot assign to operator\n"
     ]
    }
   ],
   "source": [
    "a1='surekha' and b1='rajesh'"
   ]
  },
  {
   "cell_type": "code",
   "execution_count": 18,
   "id": "8892c3f7",
   "metadata": {},
   "outputs": [
    {
     "data": {
      "text/plain": [
       "True"
      ]
     },
     "execution_count": 18,
     "metadata": {},
     "output_type": "execute_result"
    }
   ],
   "source": [
    "a1=='surekha' and b1=='rajesh'"
   ]
  },
  {
   "cell_type": "code",
   "execution_count": 19,
   "id": "ef8ed3c6",
   "metadata": {},
   "outputs": [
    {
     "data": {
      "text/plain": [
       "False"
      ]
     },
     "execution_count": 19,
     "metadata": {},
     "output_type": "execute_result"
    }
   ],
   "source": [
    "a1=='surekhaa' and b1=='rajesh'"
   ]
  },
  {
   "cell_type": "code",
   "execution_count": 20,
   "id": "9f7b4e85",
   "metadata": {},
   "outputs": [
    {
     "data": {
      "text/plain": [
       "True"
      ]
     },
     "execution_count": 20,
     "metadata": {},
     "output_type": "execute_result"
    }
   ],
   "source": [
    "a1=='surekkha' or b1=='rajesh'"
   ]
  },
  {
   "cell_type": "code",
   "execution_count": 21,
   "id": "a7abe911",
   "metadata": {},
   "outputs": [
    {
     "ename": "NameError",
     "evalue": "name 'b' is not defined",
     "output_type": "error",
     "traceback": [
      "\u001b[1;31m---------------------------------------------------------------------------\u001b[0m",
      "\u001b[1;31mNameError\u001b[0m                                 Traceback (most recent call last)",
      "\u001b[1;32m~\\AppData\\Local\\Temp/ipykernel_18772/66594565.py\u001b[0m in \u001b[0;36m<module>\u001b[1;34m\u001b[0m\n\u001b[1;32m----> 1\u001b[1;33m \u001b[0ma1\u001b[0m\u001b[1;33m==\u001b[0m\u001b[1;34m'surekkha'\u001b[0m \u001b[1;32mor\u001b[0m \u001b[0mb\u001b[0m\u001b[1;33m==\u001b[0m\u001b[1;34m'rajesh'\u001b[0m\u001b[1;33m\u001b[0m\u001b[1;33m\u001b[0m\u001b[0m\n\u001b[0m",
      "\u001b[1;31mNameError\u001b[0m: name 'b' is not defined"
     ]
    }
   ],
   "source": [
    "a1=='surekkha' or b=='rajesh'"
   ]
  },
  {
   "cell_type": "code",
   "execution_count": 22,
   "id": "7f5fa9c7",
   "metadata": {},
   "outputs": [
    {
     "data": {
      "text/plain": [
       "True"
      ]
     },
     "execution_count": 22,
     "metadata": {},
     "output_type": "execute_result"
    }
   ],
   "source": [
    "a1=='surekha' or b=='rajesh'"
   ]
  },
  {
   "cell_type": "code",
   "execution_count": 23,
   "id": "d12fd23b",
   "metadata": {},
   "outputs": [
    {
     "data": {
      "text/plain": [
       "True"
      ]
     },
     "execution_count": 23,
     "metadata": {},
     "output_type": "execute_result"
    }
   ],
   "source": [
    "p=3\n",
    "q=7\n",
    "p<4 and q>5"
   ]
  },
  {
   "cell_type": "code",
   "execution_count": 24,
   "id": "f4cc3868",
   "metadata": {},
   "outputs": [
    {
     "data": {
      "text/plain": [
       "False"
      ]
     },
     "execution_count": 24,
     "metadata": {},
     "output_type": "execute_result"
    }
   ],
   "source": [
    "p<3 and q<6"
   ]
  },
  {
   "cell_type": "code",
   "execution_count": 25,
   "id": "70671947",
   "metadata": {},
   "outputs": [
    {
     "data": {
      "text/plain": [
       "True"
      ]
     },
     "execution_count": 25,
     "metadata": {},
     "output_type": "execute_result"
    }
   ],
   "source": [
    "p>=3 "
   ]
  },
  {
   "cell_type": "code",
   "execution_count": 26,
   "id": "19d260a5",
   "metadata": {},
   "outputs": [
    {
     "data": {
      "text/plain": [
       "['key board', 'mouse', 'cpu', 'laptop', 'monitor', 'head phones']"
      ]
     },
     "execution_count": 26,
     "metadata": {},
     "output_type": "execute_result"
    }
   ],
   "source": [
    "l"
   ]
  },
  {
   "cell_type": "code",
   "execution_count": 28,
   "id": "faad5de5",
   "metadata": {},
   "outputs": [
    {
     "data": {
      "text/plain": [
       "True"
      ]
     },
     "execution_count": 28,
     "metadata": {},
     "output_type": "execute_result"
    }
   ],
   "source": [
    "'monitor' in l"
   ]
  },
  {
   "cell_type": "code",
   "execution_count": 29,
   "id": "bf3da158",
   "metadata": {},
   "outputs": [
    {
     "data": {
      "text/plain": [
       "False"
      ]
     },
     "execution_count": 29,
     "metadata": {},
     "output_type": "execute_result"
    }
   ],
   "source": [
    "'mouse ' in l"
   ]
  },
  {
   "cell_type": "code",
   "execution_count": 30,
   "id": "de2f3f22",
   "metadata": {},
   "outputs": [
    {
     "data": {
      "text/plain": [
       "True"
      ]
     },
     "execution_count": 30,
     "metadata": {},
     "output_type": "execute_result"
    }
   ],
   "source": [
    "'mouse' in l"
   ]
  },
  {
   "cell_type": "code",
   "execution_count": 31,
   "id": "2ba21f24",
   "metadata": {},
   "outputs": [
    {
     "data": {
      "text/plain": [
       "False"
      ]
     },
     "execution_count": 31,
     "metadata": {},
     "output_type": "execute_result"
    }
   ],
   "source": [
    "'cpu' not in l"
   ]
  },
  {
   "cell_type": "code",
   "execution_count": 32,
   "id": "be18a711",
   "metadata": {},
   "outputs": [
    {
     "data": {
      "text/plain": [
       "True"
      ]
     },
     "execution_count": 32,
     "metadata": {},
     "output_type": "execute_result"
    }
   ],
   "source": [
    "'g' not in l"
   ]
  },
  {
   "cell_type": "code",
   "execution_count": 33,
   "id": "d4ae0f41",
   "metadata": {},
   "outputs": [],
   "source": [
    "tpl=('surekha','valiveti')"
   ]
  },
  {
   "cell_type": "code",
   "execution_count": 34,
   "id": "fca08378",
   "metadata": {},
   "outputs": [
    {
     "data": {
      "text/plain": [
       "tuple"
      ]
     },
     "execution_count": 34,
     "metadata": {},
     "output_type": "execute_result"
    }
   ],
   "source": [
    "type(tpl)"
   ]
  },
  {
   "cell_type": "code",
   "execution_count": 35,
   "id": "3384c521",
   "metadata": {},
   "outputs": [
    {
     "ename": "TypeError",
     "evalue": "'tuple' object does not support item assignment",
     "output_type": "error",
     "traceback": [
      "\u001b[1;31m---------------------------------------------------------------------------\u001b[0m",
      "\u001b[1;31mTypeError\u001b[0m                                 Traceback (most recent call last)",
      "\u001b[1;32m~\\AppData\\Local\\Temp/ipykernel_18772/4128731414.py\u001b[0m in \u001b[0;36m<module>\u001b[1;34m\u001b[0m\n\u001b[1;32m----> 1\u001b[1;33m \u001b[0mtpl\u001b[0m\u001b[1;33m[\u001b[0m\u001b[1;36m0\u001b[0m\u001b[1;33m]\u001b[0m\u001b[1;33m=\u001b[0m\u001b[1;34m'kalyani'\u001b[0m\u001b[1;33m\u001b[0m\u001b[1;33m\u001b[0m\u001b[0m\n\u001b[0m",
      "\u001b[1;31mTypeError\u001b[0m: 'tuple' object does not support item assignment"
     ]
    }
   ],
   "source": [
    "tpl[0]='kalyani'"
   ]
  },
  {
   "cell_type": "code",
   "execution_count": 36,
   "id": "bcd4df8a",
   "metadata": {},
   "outputs": [],
   "source": [
    "l[0]='table'"
   ]
  },
  {
   "cell_type": "markdown",
   "id": "3b7f502a",
   "metadata": {},
   "source": [
    "##### copying list"
   ]
  },
  {
   "cell_type": "code",
   "execution_count": 37,
   "id": "1acaf626",
   "metadata": {},
   "outputs": [
    {
     "data": {
      "text/plain": [
       "['table', 'mouse', 'cpu', 'laptop', 'monitor', 'head phones']"
      ]
     },
     "execution_count": 37,
     "metadata": {},
     "output_type": "execute_result"
    }
   ],
   "source": [
    "l"
   ]
  },
  {
   "cell_type": "markdown",
   "id": "eaf78349",
   "metadata": {},
   "source": [
    "this just assigns the list l to g. any changes in list l will be affected in g also. in order to avoid that we need to do it in a different way  g=l[:] as shown below"
   ]
  },
  {
   "cell_type": "code",
   "execution_count": 38,
   "id": "96b9b4cd",
   "metadata": {},
   "outputs": [],
   "source": [
    "g=l"
   ]
  },
  {
   "cell_type": "code",
   "execution_count": 39,
   "id": "06d58b06",
   "metadata": {},
   "outputs": [
    {
     "data": {
      "text/plain": [
       "['table', 'mouse', 'cpu', 'laptop', 'monitor', 'head phones']"
      ]
     },
     "execution_count": 39,
     "metadata": {},
     "output_type": "execute_result"
    }
   ],
   "source": [
    "g"
   ]
  },
  {
   "cell_type": "code",
   "execution_count": 40,
   "id": "fd0c4968",
   "metadata": {},
   "outputs": [],
   "source": [
    "l[0]='helmet'"
   ]
  },
  {
   "cell_type": "code",
   "execution_count": 41,
   "id": "7a4c3a2b",
   "metadata": {},
   "outputs": [
    {
     "data": {
      "text/plain": [
       "['helmet', 'mouse', 'cpu', 'laptop', 'monitor', 'head phones']"
      ]
     },
     "execution_count": 41,
     "metadata": {},
     "output_type": "execute_result"
    }
   ],
   "source": [
    "l"
   ]
  },
  {
   "cell_type": "code",
   "execution_count": 42,
   "id": "d36309b0",
   "metadata": {},
   "outputs": [
    {
     "data": {
      "text/plain": [
       "['helmet', 'mouse', 'cpu', 'laptop', 'monitor', 'head phones']"
      ]
     },
     "execution_count": 42,
     "metadata": {},
     "output_type": "execute_result"
    }
   ],
   "source": [
    "g"
   ]
  },
  {
   "cell_type": "code",
   "execution_count": 43,
   "id": "8407f9eb",
   "metadata": {},
   "outputs": [],
   "source": [
    "g=l[:]"
   ]
  },
  {
   "cell_type": "code",
   "execution_count": 44,
   "id": "dd1f67d2",
   "metadata": {},
   "outputs": [],
   "source": [
    "l[1]='wireless mouse'"
   ]
  },
  {
   "cell_type": "code",
   "execution_count": 45,
   "id": "66293c3c",
   "metadata": {},
   "outputs": [
    {
     "data": {
      "text/plain": [
       "['helmet', 'wireless mouse', 'cpu', 'laptop', 'monitor', 'head phones']"
      ]
     },
     "execution_count": 45,
     "metadata": {},
     "output_type": "execute_result"
    }
   ],
   "source": [
    "l"
   ]
  },
  {
   "cell_type": "code",
   "execution_count": 46,
   "id": "a363759c",
   "metadata": {},
   "outputs": [
    {
     "data": {
      "text/plain": [
       "['helmet', 'mouse', 'cpu', 'laptop', 'monitor', 'head phones']"
      ]
     },
     "execution_count": 46,
     "metadata": {},
     "output_type": "execute_result"
    }
   ],
   "source": [
    "g"
   ]
  },
  {
   "cell_type": "markdown",
   "id": "edf30215",
   "metadata": {},
   "source": [
    "#### defining a tuple"
   ]
  },
  {
   "cell_type": "code",
   "execution_count": 47,
   "id": "94219548",
   "metadata": {},
   "outputs": [],
   "source": [
    "t=(1,2)"
   ]
  },
  {
   "cell_type": "code",
   "execution_count": 48,
   "id": "37d96eda",
   "metadata": {},
   "outputs": [
    {
     "data": {
      "text/plain": [
       "tuple"
      ]
     },
     "execution_count": 48,
     "metadata": {},
     "output_type": "execute_result"
    }
   ],
   "source": [
    "type(t)"
   ]
  },
  {
   "cell_type": "code",
   "execution_count": 49,
   "id": "df572b73",
   "metadata": {},
   "outputs": [],
   "source": [
    "s={1,2}"
   ]
  },
  {
   "cell_type": "code",
   "execution_count": 50,
   "id": "600bc7ac",
   "metadata": {},
   "outputs": [
    {
     "data": {
      "text/plain": [
       "{1, 2}"
      ]
     },
     "execution_count": 50,
     "metadata": {},
     "output_type": "execute_result"
    }
   ],
   "source": [
    "s"
   ]
  },
  {
   "cell_type": "code",
   "execution_count": 51,
   "id": "8df7c45c",
   "metadata": {},
   "outputs": [],
   "source": [
    "s1={}"
   ]
  },
  {
   "cell_type": "code",
   "execution_count": 53,
   "id": "4f3635fa",
   "metadata": {},
   "outputs": [
    {
     "data": {
      "text/plain": [
       "dict"
      ]
     },
     "execution_count": 53,
     "metadata": {},
     "output_type": "execute_result"
    }
   ],
   "source": [
    "type(s1)"
   ]
  },
  {
   "cell_type": "code",
   "execution_count": 54,
   "id": "d2368da3",
   "metadata": {},
   "outputs": [
    {
     "data": {
      "text/plain": [
       "set"
      ]
     },
     "execution_count": 54,
     "metadata": {},
     "output_type": "execute_result"
    }
   ],
   "source": [
    "type(s)"
   ]
  },
  {
   "cell_type": "code",
   "execution_count": 56,
   "id": "513a9435",
   "metadata": {},
   "outputs": [],
   "source": [
    "s2={1,}"
   ]
  },
  {
   "cell_type": "code",
   "execution_count": 57,
   "id": "64bbdb5f",
   "metadata": {},
   "outputs": [
    {
     "data": {
      "text/plain": [
       "set"
      ]
     },
     "execution_count": 57,
     "metadata": {},
     "output_type": "execute_result"
    }
   ],
   "source": [
    "type(s2)"
   ]
  },
  {
   "cell_type": "markdown",
   "id": "8ea29a42",
   "metadata": {},
   "source": [
    "###### if, if else, elif, elif else"
   ]
  },
  {
   "cell_type": "code",
   "execution_count": 59,
   "id": "0bb21e1f",
   "metadata": {},
   "outputs": [
    {
     "name": "stdout",
     "output_type": "stream",
     "text": [
      "correct\n"
     ]
    }
   ],
   "source": [
    "k=2\n",
    "if k>=2:\n",
    "    print('correct')"
   ]
  },
  {
   "cell_type": "code",
   "execution_count": 60,
   "id": "d12c78c1",
   "metadata": {},
   "outputs": [],
   "source": [
    "k=2\n",
    "if k>=3:\n",
    "    print('correct')"
   ]
  },
  {
   "cell_type": "code",
   "execution_count": 61,
   "id": "11778fb4",
   "metadata": {},
   "outputs": [
    {
     "name": "stdout",
     "output_type": "stream",
     "text": [
      "k value is incorrect\n"
     ]
    }
   ],
   "source": [
    "k=2\n",
    "if k>=3:\n",
    "    print('correct')\n",
    "print('k value is incorrect')"
   ]
  },
  {
   "cell_type": "code",
   "execution_count": 64,
   "id": "2332598d",
   "metadata": {},
   "outputs": [
    {
     "name": "stdout",
     "output_type": "stream",
     "text": [
      "correct\n",
      "if block executed\n",
      "end\n"
     ]
    }
   ],
   "source": [
    "k=2\n",
    "if k>=2:\n",
    "    print('correct')\n",
    "    print('if block executed')\n",
    "print('end')"
   ]
  },
  {
   "cell_type": "code",
   "execution_count": 65,
   "id": "23f4f1bb",
   "metadata": {},
   "outputs": [
    {
     "name": "stdout",
     "output_type": "stream",
     "text": [
      "correct\n"
     ]
    }
   ],
   "source": [
    "k=5\n",
    "if k==5:\n",
    "    print('correct')\n",
    "else:\n",
    "    print('k is incorrect')"
   ]
  },
  {
   "cell_type": "code",
   "execution_count": 66,
   "id": "0b236b78",
   "metadata": {},
   "outputs": [
    {
     "name": "stdout",
     "output_type": "stream",
     "text": [
      "k is incorrect\n"
     ]
    }
   ],
   "source": [
    "k=4\n",
    "if k==5:\n",
    "    print('correct')\n",
    "else:\n",
    "    print('k is incorrect')"
   ]
  },
  {
   "cell_type": "code",
   "execution_count": 1,
   "id": "05e245f6",
   "metadata": {},
   "outputs": [
    {
     "name": "stdout",
     "output_type": "stream",
     "text": [
      "k is surekha\n",
      "done\n"
     ]
    }
   ],
   "source": [
    "k='surekha'\n",
    "if k=='surekha':\n",
    "    print('k is surekha')\n",
    "elif k=='Surekha':\n",
    "    print('k is Surekha')\n",
    "elif k=='SUREKHA':\n",
    "    print('k is SUREKHA')\n",
    "print('done')"
   ]
  },
  {
   "cell_type": "code",
   "execution_count": 4,
   "id": "ab2f551e",
   "metadata": {},
   "outputs": [
    {
     "name": "stdout",
     "output_type": "stream",
     "text": [
      "k is Surekha\n",
      "done\n"
     ]
    }
   ],
   "source": [
    "k='surekha'\n",
    "if k=='Surekha':\n",
    "    print('k is surekha')\n",
    "elif k.capitalize()=='Surekha':\n",
    "    print('k is Surekha')\n",
    "elif k=='SUREKHA':\n",
    "    print('k is SUREKHA')\n",
    "print('done')"
   ]
  },
  {
   "cell_type": "code",
   "execution_count": 6,
   "id": "93483dbe",
   "metadata": {},
   "outputs": [
    {
     "name": "stdout",
     "output_type": "stream",
     "text": [
      "k is SUREKHA\n",
      "done\n"
     ]
    }
   ],
   "source": [
    "k='surekha'\n",
    "if k=='surekhaa':\n",
    "    print('k is surekha')\n",
    "elif k=='Surekha':\n",
    "    print('k is Surekha')\n",
    "elif k.upper()=='SUREKHA':\n",
    "    print('k is SUREKHA')\n",
    "print('done')"
   ]
  },
  {
   "cell_type": "code",
   "execution_count": 7,
   "id": "5eab055f",
   "metadata": {},
   "outputs": [
    {
     "name": "stdout",
     "output_type": "stream",
     "text": [
      "done\n"
     ]
    }
   ],
   "source": [
    "k='surekha'\n",
    "if k=='surekhaa':\n",
    "    print('k is surekha')\n",
    "elif k=='Surekha':\n",
    "    print('k is Surekha')\n",
    "elif k=='SUREKHA':\n",
    "    print('k is SUREKHA')\n",
    "print('done')"
   ]
  },
  {
   "cell_type": "code",
   "execution_count": 8,
   "id": "222fb2a4",
   "metadata": {},
   "outputs": [],
   "source": [
    "k='surekha'\n",
    "if k=='surekhaa':\n",
    "    print('k is surekha')\n",
    "elif k=='Surekha':\n",
    "    print('k is Surekha')\n",
    "elif k=='SUREKHA':\n",
    "    print('k is SUREKHA')"
   ]
  },
  {
   "cell_type": "code",
   "execution_count": 9,
   "id": "89606d88",
   "metadata": {},
   "outputs": [
    {
     "name": "stdout",
     "output_type": "stream",
     "text": [
      "done\n"
     ]
    }
   ],
   "source": [
    "k='surekha'\n",
    "if k=='surekhaa':\n",
    "    print('k is surekha')\n",
    "elif k=='Surekha':\n",
    "    print('k is Surekha')\n",
    "elif k=='SUREKHA':\n",
    "    print('k is SUREKHA')\n",
    "else:\n",
    "    print('done')"
   ]
  },
  {
   "cell_type": "code",
   "execution_count": 18,
   "id": "afe6e77c",
   "metadata": {},
   "outputs": [
    {
     "name": "stdout",
     "output_type": "stream",
     "text": [
      "sofa is available\n",
      "cot is available\n",
      "matress is available\n",
      "chairs is available\n",
      "tables is available\n"
     ]
    }
   ],
   "source": [
    "furniture_store=['sofa','cot','matress','chairs','tables','computer tables','stools']\n",
    "if 'sofa' in furniture_store:\n",
    "    print(\"sofa is available\")\n",
    "if 'cot' in furniture_store:\n",
    "    print(\"cot is available\")\n",
    "if 'matress' in furniture_store:\n",
    "    print(\"matress is available\")\n",
    "if 'chairs' in furniture_store:\n",
    "    print(\"chairs is available\")\n",
    "if 'tables' in furniture_store:\n",
    "    print(\"tables is available\")"
   ]
  },
  {
   "cell_type": "code",
   "execution_count": 19,
   "id": "6b53b664",
   "metadata": {},
   "outputs": [
    {
     "name": "stdout",
     "output_type": "stream",
     "text": [
      "sofa is available\n"
     ]
    }
   ],
   "source": [
    "furniture_store=['sofa','cot','matress','chairs','tables','computer tables','stools']\n",
    "if 'sofa' in furniture_store:\n",
    "    print(\"sofa is available\")\n",
    "elif 'cot' in furniture_store:\n",
    "    print(\"cot is available\")\n",
    "elif 'matress' in furniture_store:\n",
    "    print(\"matress is available\")\n",
    "elif 'chairs' in furniture_store:\n",
    "    print(\"chairs is available\")\n",
    "elif 'tables' in furniture_store:\n",
    "    print(\"tables is available\")"
   ]
  },
  {
   "cell_type": "markdown",
   "id": "71f31b8c",
   "metadata": {},
   "source": [
    " 1) if(conditon):\n",
    "        indentation block\n",
    "    \n",
    " 2) if(conditon):\n",
    "        indentation block\n",
    "    else:\n",
    "\n",
    "3)  if(conditon):\n",
    "        indentation block\n",
    "    elif(condition):\n",
    "        indnetation block\n",
    "    elif(condition):\n",
    "        indnetation block\n",
    "    elif(condition):\n",
    "        indnetation block\n",
    "    elif(condition):\n",
    "        indnetation block\n",
    "        \n",
    "4)  if(conditon):\n",
    "        indentation block\n",
    "    elif(condition):\n",
    "        indnetation block\n",
    "    elif(condition):\n",
    "        indnetation block\n",
    "    elif(condition):\n",
    "        indnetation block\n",
    "    elif(condition):\n",
    "        indnetation block\n",
    "    else:"
   ]
  },
  {
   "cell_type": "code",
   "execution_count": 21,
   "id": "5fa45a6f",
   "metadata": {},
   "outputs": [
    {
     "name": "stdout",
     "output_type": "stream",
     "text": [
      "oregano not available\n",
      "chilli flakes not available\n",
      "mushroom added\n",
      "onion added\n",
      "tomato added\n",
      "panneer added\n"
     ]
    }
   ],
   "source": [
    "ordered_pizza_toppings=['oregano','chilli flakes','mushroom','onion','tomato','panneer']\n",
    "available_pizza_toppings=['olives','mushroom','onion','tomato','panneer','cheese','bell pepper']\n",
    "for i in ordered_pizza_toppings:\n",
    "    if i in available_pizza_toppings:\n",
    "        print(f\"{i} added\")\n",
    "    else:\n",
    "        print(f\"{i} not available\")"
   ]
  },
  {
   "cell_type": "code",
   "execution_count": null,
   "id": "c50bdd02",
   "metadata": {},
   "outputs": [],
   "source": []
  }
 ],
 "metadata": {
  "kernelspec": {
   "display_name": "Python 3 (ipykernel)",
   "language": "python",
   "name": "python3"
  },
  "language_info": {
   "codemirror_mode": {
    "name": "ipython",
    "version": 3
   },
   "file_extension": ".py",
   "mimetype": "text/x-python",
   "name": "python",
   "nbconvert_exporter": "python",
   "pygments_lexer": "ipython3",
   "version": "3.9.7"
  }
 },
 "nbformat": 4,
 "nbformat_minor": 5
}
