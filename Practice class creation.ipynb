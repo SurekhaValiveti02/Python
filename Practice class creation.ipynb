{
 "cells": [
  {
   "cell_type": "code",
   "execution_count": null,
   "id": "608de238",
   "metadata": {},
   "outputs": [],
   "source": [
    "class Restaurant:\n",
    "    def __init__(self,menu,status):\n",
    "        self.menu=menu\n",
    "        self.status=status\n",
    "    def menu()"
   ]
  },
  {
   "cell_type": "code",
   "execution_count": 1,
   "id": "61e336bd",
   "metadata": {},
   "outputs": [],
   "source": [
    "class Restaurant:\n",
    "    \"\"\"Class to display menu and the status of the restaurant\"\"\"\n",
    "    # menu - string, status- string\n",
    "    def __init__(self,menu,status):\n",
    "        self.menu=menu\n",
    "        self.status=status\n",
    "          \n",
    "    def display_menu(self):\n",
    "        \"\"\"displays menu\"\"\"\n",
    "        print(f\"{self.menu}\")\n",
    "    \n",
    "    \n",
    "    def display_status(self):\n",
    "        \"\"\"displays open/close/full/under maintainance\"\"\"\n",
    "        print(f\"{self.status}\")\n",
    "    "
   ]
  },
  {
   "cell_type": "code",
   "execution_count": null,
   "id": "fefd95e9",
   "metadata": {},
   "outputs": [],
   "source": []
  },
  {
   "cell_type": "code",
   "execution_count": null,
   "id": "4e197da8",
   "metadata": {},
   "outputs": [],
   "source": []
  },
  {
   "cell_type": "code",
   "execution_count": null,
   "id": "6e67239f",
   "metadata": {},
   "outputs": [],
   "source": []
  },
  {
   "cell_type": "code",
   "execution_count": null,
   "id": "959d9780",
   "metadata": {},
   "outputs": [],
   "source": []
  },
  {
   "cell_type": "code",
   "execution_count": null,
   "id": "a738dd74",
   "metadata": {},
   "outputs": [],
   "source": []
  },
  {
   "cell_type": "code",
   "execution_count": null,
   "id": "19030f4f",
   "metadata": {},
   "outputs": [],
   "source": [
    "user class , first name last name,display user profile,greet user"
   ]
  },
  {
   "cell_type": "code",
   "execution_count": 1,
   "id": "4a2eb3cf",
   "metadata": {},
   "outputs": [],
   "source": [
    "class UserDetails:\n",
    "    \"\"\"display user details,and greet them\"\"\"\n",
    "    # firstname-string, lastname-string, age-int, city-string\n",
    "    \n",
    "    def __init__(self,firstname,lastname,age,city):\n",
    "        self.firstname=firstname\n",
    "        self.lastname=lastname\n",
    "        self.age=age\n",
    "        self.city=city\n",
    "\n",
    "    def display_user_details(self):\n",
    "        \"\"\"displays details of user\"\"\"\n",
    "        print(f\"{self.firstname}\")\n",
    "        print(f\"{self.lastname}\")\n",
    "        print(f\"{self.age}\")\n",
    "        print(f\"{self.city}\")\n",
    "    \n",
    "    def greet_user(self):\n",
    "        \"\"\"greets user dynamically\"\"\"\n",
    "        print(f\"welcome {self.firstname+self.lastname}\")"
   ]
  },
  {
   "cell_type": "code",
   "execution_count": 9,
   "id": "84c7962a",
   "metadata": {},
   "outputs": [
    {
     "ename": "TypeError",
     "evalue": "__init__() takes 5 positional arguments but 6 were given",
     "output_type": "error",
     "traceback": [
      "\u001b[1;31m---------------------------------------------------------------------------\u001b[0m",
      "\u001b[1;31mTypeError\u001b[0m                                 Traceback (most recent call last)",
      "\u001b[1;32m~\\AppData\\Local\\Temp/ipykernel_14188/609197987.py\u001b[0m in \u001b[0;36m<module>\u001b[1;34m\u001b[0m\n\u001b[1;32m----> 1\u001b[1;33m \u001b[0muser1\u001b[0m\u001b[1;33m=\u001b[0m\u001b[0mUserDetails\u001b[0m\u001b[1;33m(\u001b[0m\u001b[1;34m'surekha'\u001b[0m\u001b[1;33m,\u001b[0m\u001b[1;34m'valiveti'\u001b[0m\u001b[1;33m,\u001b[0m\u001b[1;36m28\u001b[0m\u001b[1;33m,\u001b[0m\u001b[1;34m'chennai'\u001b[0m\u001b[1;33m,\u001b[0m\u001b[1;34m'F'\u001b[0m\u001b[1;33m)\u001b[0m\u001b[1;33m\u001b[0m\u001b[1;33m\u001b[0m\u001b[0m\n\u001b[0m",
      "\u001b[1;31mTypeError\u001b[0m: __init__() takes 5 positional arguments but 6 were given"
     ]
    }
   ],
   "source": [
    "user1=UserDetails('surekha','valiveti',28,'chennai','F')"
   ]
  },
  {
   "cell_type": "code",
   "execution_count": 3,
   "id": "52d4867b",
   "metadata": {},
   "outputs": [
    {
     "name": "stdout",
     "output_type": "stream",
     "text": [
      "surekha\n",
      "valiveti\n",
      "28\n",
      "chennai\n"
     ]
    }
   ],
   "source": [
    "user1.display_user_details()"
   ]
  },
  {
   "cell_type": "code",
   "execution_count": 4,
   "id": "192d18c0",
   "metadata": {},
   "outputs": [
    {
     "name": "stdout",
     "output_type": "stream",
     "text": [
      "welcome surekhavaliveti\n"
     ]
    }
   ],
   "source": [
    "user1.greet_user()"
   ]
  },
  {
   "cell_type": "code",
   "execution_count": 5,
   "id": "9ca936ad",
   "metadata": {},
   "outputs": [],
   "source": [
    "user2=UserDetails('Arun kumar','Rayani',28,'Chirala')"
   ]
  },
  {
   "cell_type": "code",
   "execution_count": 6,
   "id": "b583c32e",
   "metadata": {},
   "outputs": [
    {
     "name": "stdout",
     "output_type": "stream",
     "text": [
      "surekha\n",
      "valiveti\n",
      "28\n",
      "chennai\n"
     ]
    }
   ],
   "source": [
    "user1.display_user_details()"
   ]
  },
  {
   "cell_type": "code",
   "execution_count": 7,
   "id": "c5fc2937",
   "metadata": {},
   "outputs": [
    {
     "name": "stdout",
     "output_type": "stream",
     "text": [
      "Arun kumar\n",
      "Rayani\n",
      "28\n",
      "Chirala\n"
     ]
    }
   ],
   "source": [
    "user2.display_user_details()"
   ]
  },
  {
   "cell_type": "code",
   "execution_count": 40,
   "id": "ecd12181",
   "metadata": {},
   "outputs": [],
   "source": [
    "class UserDetails:\n",
    "    \"\"\"display user details,and greet them\"\"\"\n",
    "    # firstname-string, lastname-string, age-int, city-string\n",
    "    \n",
    "    def __init__(self,*details):       \n",
    "        self.details=details\n",
    "\n",
    "    def display_user_details(self):\n",
    "        \"\"\"displays details of user\"\"\" \n",
    "        for i in self.details:\n",
    "            print(i)   \n",
    "        print(f\"user1 is {self.details}\")\n",
    "        print(type(self.details))\n",
    "        \n",
    "    \n",
    "    def greet_user(self):\n",
    "        \"\"\"greets user dynamically\"\"\"\n",
    "        print(f\"welcome {self.firstname+self.lastname}\")"
   ]
  },
  {
   "cell_type": "code",
   "execution_count": 41,
   "id": "8374115e",
   "metadata": {},
   "outputs": [],
   "source": [
    "user1=UserDetails(['surekha','valiveti',28,'chennai','F'])"
   ]
  },
  {
   "cell_type": "code",
   "execution_count": 42,
   "id": "7727aa8b",
   "metadata": {},
   "outputs": [
    {
     "name": "stdout",
     "output_type": "stream",
     "text": [
      "['surekha', 'valiveti', 28, 'chennai', 'F']\n",
      "user1 is (['surekha', 'valiveti', 28, 'chennai', 'F'],)\n",
      "<class 'tuple'>\n"
     ]
    }
   ],
   "source": [
    "user1.display_user_details()"
   ]
  },
  {
   "cell_type": "code",
   "execution_count": null,
   "id": "dbb20295",
   "metadata": {},
   "outputs": [],
   "source": []
  }
 ],
 "metadata": {
  "kernelspec": {
   "display_name": "Python 3 (ipykernel)",
   "language": "python",
   "name": "python3"
  },
  "language_info": {
   "codemirror_mode": {
    "name": "ipython",
    "version": 3
   },
   "file_extension": ".py",
   "mimetype": "text/x-python",
   "name": "python",
   "nbconvert_exporter": "python",
   "pygments_lexer": "ipython3",
   "version": "3.9.7"
  }
 },
 "nbformat": 4,
 "nbformat_minor": 5
}
