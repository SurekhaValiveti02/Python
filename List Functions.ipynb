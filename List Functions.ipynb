{
 "cells": [
  {
   "cell_type": "markdown",
   "id": "3d8b7b0f",
   "metadata": {},
   "source": [
    "##### Creating a list"
   ]
  },
  {
   "cell_type": "code",
   "execution_count": 5,
   "id": "0b6939de",
   "metadata": {},
   "outputs": [],
   "source": [
    "l=[['Seshagri Rao','Nageswaramma'],['Sambasiva Rao','Padmavathi'],['Satyannarayana','Srilakshmi'],['Hanumantha Rao','Manorama']]"
   ]
  },
  {
   "cell_type": "code",
   "execution_count": 2,
   "id": "8936b8a2",
   "metadata": {},
   "outputs": [
    {
     "data": {
      "text/plain": [
       "'Seshagri Rao'"
      ]
     },
     "execution_count": 2,
     "metadata": {},
     "output_type": "execute_result"
    }
   ],
   "source": [
    "l[0]"
   ]
  },
  {
   "cell_type": "markdown",
   "id": "37e04f80",
   "metadata": {},
   "source": [
    "###### Deleting elements in list\n",
    "pop deletes last element if the argument is not specified\n",
    "remove removes the specified element"
   ]
  },
  {
   "cell_type": "code",
   "execution_count": 6,
   "id": "22c6061c",
   "metadata": {
    "scrolled": true
   },
   "outputs": [
    {
     "data": {
      "text/plain": [
       "['Seshagri Rao', 'Nageswaramma']"
      ]
     },
     "execution_count": 6,
     "metadata": {},
     "output_type": "execute_result"
    }
   ],
   "source": [
    "l.pop(0)"
   ]
  },
  {
   "cell_type": "code",
   "execution_count": 10,
   "id": "b8f67053",
   "metadata": {},
   "outputs": [],
   "source": [
    "l.remove(['Sambasiva Rao','Padmavathi'])"
   ]
  },
  {
   "cell_type": "code",
   "execution_count": 15,
   "id": "970b8e4b",
   "metadata": {},
   "outputs": [
    {
     "data": {
      "text/plain": [
       "[['Satyannarayana', 'Srilakshmi'],\n",
       " 'Sravani',\n",
       " ['Hanumantha Rao', 'Manorama'],\n",
       " 'Surekha']"
      ]
     },
     "execution_count": 15,
     "metadata": {},
     "output_type": "execute_result"
    }
   ],
   "source": [
    "l"
   ]
  },
  {
   "cell_type": "markdown",
   "id": "c4c8a2c1",
   "metadata": {},
   "source": [
    "##### adding elements in list\n",
    "append adds element at last of the list\n",
    "insert adds element at specified index"
   ]
  },
  {
   "cell_type": "code",
   "execution_count": 12,
   "id": "6361727e",
   "metadata": {},
   "outputs": [],
   "source": [
    "l.append('Surekha')"
   ]
  },
  {
   "cell_type": "code",
   "execution_count": 14,
   "id": "6ecd042c",
   "metadata": {},
   "outputs": [],
   "source": [
    "l.insert(1,'Sravani')"
   ]
  },
  {
   "cell_type": "code",
   "execution_count": 16,
   "id": "e7b50383",
   "metadata": {},
   "outputs": [],
   "source": [
    "l.insert(4,'Kalyani')"
   ]
  },
  {
   "cell_type": "code",
   "execution_count": 17,
   "id": "d5064b11",
   "metadata": {},
   "outputs": [
    {
     "data": {
      "text/plain": [
       "[['Satyannarayana', 'Srilakshmi'],\n",
       " 'Sravani',\n",
       " ['Hanumantha Rao', 'Manorama'],\n",
       " 'Surekha',\n",
       " 'Kalyani']"
      ]
     },
     "execution_count": 17,
     "metadata": {},
     "output_type": "execute_result"
    }
   ],
   "source": [
    "l"
   ]
  },
  {
   "cell_type": "code",
   "execution_count": 18,
   "id": "52068cb1",
   "metadata": {},
   "outputs": [
    {
     "data": {
      "text/plain": [
       "'Kalyani'"
      ]
     },
     "execution_count": 18,
     "metadata": {},
     "output_type": "execute_result"
    }
   ],
   "source": [
    "l.pop()"
   ]
  },
  {
   "cell_type": "code",
   "execution_count": 19,
   "id": "601786f8",
   "metadata": {},
   "outputs": [
    {
     "data": {
      "text/plain": [
       "'Surekha'"
      ]
     },
     "execution_count": 19,
     "metadata": {},
     "output_type": "execute_result"
    }
   ],
   "source": [
    "l.pop(3)"
   ]
  },
  {
   "cell_type": "code",
   "execution_count": 20,
   "id": "ea620511",
   "metadata": {},
   "outputs": [
    {
     "data": {
      "text/plain": [
       "'Sravani'"
      ]
     },
     "execution_count": 20,
     "metadata": {},
     "output_type": "execute_result"
    }
   ],
   "source": [
    "l.pop(1)"
   ]
  },
  {
   "cell_type": "code",
   "execution_count": 22,
   "id": "b85c17a3",
   "metadata": {},
   "outputs": [],
   "source": [
    "l.append('harish')"
   ]
  },
  {
   "cell_type": "code",
   "execution_count": 23,
   "id": "7b27d6c3",
   "metadata": {},
   "outputs": [],
   "source": [
    "l.insert(2,'ayyappa')"
   ]
  },
  {
   "cell_type": "code",
   "execution_count": 24,
   "id": "d1d9cd77",
   "metadata": {},
   "outputs": [
    {
     "data": {
      "text/plain": [
       "[['Satyannarayana', 'Srilakshmi'],\n",
       " ['Hanumantha Rao', 'Manorama'],\n",
       " 'ayyappa',\n",
       " 'harish']"
      ]
     },
     "execution_count": 24,
     "metadata": {},
     "output_type": "execute_result"
    }
   ],
   "source": [
    "l"
   ]
  },
  {
   "cell_type": "markdown",
   "id": "ce2fcf96",
   "metadata": {},
   "source": [
    "##### reverse list permanenent"
   ]
  },
  {
   "cell_type": "code",
   "execution_count": 25,
   "id": "09cb53dd",
   "metadata": {},
   "outputs": [],
   "source": [
    "l.reverse()"
   ]
  },
  {
   "cell_type": "code",
   "execution_count": 26,
   "id": "9f83c3d7",
   "metadata": {},
   "outputs": [
    {
     "data": {
      "text/plain": [
       "['harish',\n",
       " 'ayyappa',\n",
       " ['Hanumantha Rao', 'Manorama'],\n",
       " ['Satyannarayana', 'Srilakshmi']]"
      ]
     },
     "execution_count": 26,
     "metadata": {},
     "output_type": "execute_result"
    }
   ],
   "source": [
    "l"
   ]
  },
  {
   "cell_type": "code",
   "execution_count": 27,
   "id": "1c793339",
   "metadata": {},
   "outputs": [],
   "source": [
    "l.remove('ayyappa')"
   ]
  },
  {
   "cell_type": "code",
   "execution_count": 28,
   "id": "81e53ccf",
   "metadata": {},
   "outputs": [
    {
     "data": {
      "text/plain": [
       "['harish', ['Hanumantha Rao', 'Manorama'], ['Satyannarayana', 'Srilakshmi']]"
      ]
     },
     "execution_count": 28,
     "metadata": {},
     "output_type": "execute_result"
    }
   ],
   "source": [
    "l"
   ]
  },
  {
   "cell_type": "markdown",
   "id": "dd24e9bd",
   "metadata": {},
   "source": [
    "###### Reverse list temporary"
   ]
  },
  {
   "cell_type": "code",
   "execution_count": 29,
   "id": "8b722d14",
   "metadata": {},
   "outputs": [
    {
     "data": {
      "text/plain": [
       "[['Satyannarayana', 'Srilakshmi'], ['Hanumantha Rao', 'Manorama'], 'harish']"
      ]
     },
     "execution_count": 29,
     "metadata": {},
     "output_type": "execute_result"
    }
   ],
   "source": [
    "l[::-1]"
   ]
  },
  {
   "cell_type": "code",
   "execution_count": 30,
   "id": "63b5af44",
   "metadata": {},
   "outputs": [
    {
     "data": {
      "text/plain": [
       "['harish', ['Hanumantha Rao', 'Manorama'], ['Satyannarayana', 'Srilakshmi']]"
      ]
     },
     "execution_count": 30,
     "metadata": {},
     "output_type": "execute_result"
    }
   ],
   "source": [
    "l"
   ]
  },
  {
   "cell_type": "code",
   "execution_count": 32,
   "id": "ac34c1c7",
   "metadata": {},
   "outputs": [],
   "source": [
    "l.append('Chetan')"
   ]
  },
  {
   "cell_type": "code",
   "execution_count": 51,
   "id": "8ebd389e",
   "metadata": {
    "scrolled": true
   },
   "outputs": [
    {
     "data": {
      "text/plain": [
       "['harish',\n",
       " ['Hanumantha Rao', 'Manorama'],\n",
       " ['Satyannarayana', 'Srilakshmi'],\n",
       " 'Chetan',\n",
       " 'surekha']"
      ]
     },
     "execution_count": 51,
     "metadata": {},
     "output_type": "execute_result"
    }
   ],
   "source": [
    "l+['surekha']"
   ]
  },
  {
   "cell_type": "markdown",
   "id": "73215910",
   "metadata": {},
   "source": [
    "###### list function"
   ]
  },
  {
   "cell_type": "code",
   "execution_count": 56,
   "id": "3f019090",
   "metadata": {},
   "outputs": [],
   "source": [
    "l2=l+ list('kalyani')"
   ]
  },
  {
   "cell_type": "code",
   "execution_count": 57,
   "id": "586cd3ac",
   "metadata": {},
   "outputs": [
    {
     "data": {
      "text/plain": [
       "[['Hanumantha Rao', 'Manorama'],\n",
       " ['Satyannarayana', 'Srilakshmi'],\n",
       " 'k',\n",
       " 'a',\n",
       " 'l',\n",
       " 'y',\n",
       " 'a',\n",
       " 'n',\n",
       " 'i']"
      ]
     },
     "execution_count": 57,
     "metadata": {},
     "output_type": "execute_result"
    }
   ],
   "source": [
    "l2"
   ]
  },
  {
   "cell_type": "code",
   "execution_count": 53,
   "id": "2b286548",
   "metadata": {},
   "outputs": [],
   "source": [
    "del l[3]"
   ]
  },
  {
   "cell_type": "code",
   "execution_count": 54,
   "id": "96477204",
   "metadata": {},
   "outputs": [
    {
     "data": {
      "text/plain": [
       "'harish'"
      ]
     },
     "execution_count": 54,
     "metadata": {},
     "output_type": "execute_result"
    }
   ],
   "source": [
    "l.pop(0)"
   ]
  },
  {
   "cell_type": "code",
   "execution_count": 55,
   "id": "ea4fb5f5",
   "metadata": {},
   "outputs": [
    {
     "data": {
      "text/plain": [
       "[['Hanumantha Rao', 'Manorama'], ['Satyannarayana', 'Srilakshmi']]"
      ]
     },
     "execution_count": 55,
     "metadata": {},
     "output_type": "execute_result"
    }
   ],
   "source": [
    "l"
   ]
  },
  {
   "cell_type": "code",
   "execution_count": 43,
   "id": "4078c0ca",
   "metadata": {},
   "outputs": [],
   "source": [
    "n=[9,4,8,62,85,8573,927,957,727,94,3,4,5,2,5,3,5,6,9]"
   ]
  },
  {
   "cell_type": "markdown",
   "id": "0801f46a",
   "metadata": {},
   "source": [
    "###### Permanent sort"
   ]
  },
  {
   "cell_type": "code",
   "execution_count": 41,
   "id": "c0bc64bb",
   "metadata": {},
   "outputs": [],
   "source": [
    "n.sort()"
   ]
  },
  {
   "cell_type": "code",
   "execution_count": 35,
   "id": "79a09498",
   "metadata": {},
   "outputs": [
    {
     "data": {
      "text/plain": [
       "[2, 3, 3, 4, 4, 5, 5, 5, 6, 8, 9, 9, 62, 85, 94, 727, 927, 957, 8573]"
      ]
     },
     "execution_count": 35,
     "metadata": {},
     "output_type": "execute_result"
    }
   ],
   "source": [
    "n"
   ]
  },
  {
   "cell_type": "markdown",
   "id": "4afef0a7",
   "metadata": {},
   "source": [
    "##### Temperory sort"
   ]
  },
  {
   "cell_type": "code",
   "execution_count": 44,
   "id": "67a7e6c6",
   "metadata": {},
   "outputs": [
    {
     "data": {
      "text/plain": [
       "[2, 3, 3, 4, 4, 5, 5, 5, 6, 8, 9, 9, 62, 85, 94, 727, 927, 957, 8573]"
      ]
     },
     "execution_count": 44,
     "metadata": {},
     "output_type": "execute_result"
    }
   ],
   "source": [
    "sorted(n)"
   ]
  },
  {
   "cell_type": "code",
   "execution_count": 45,
   "id": "36a48694",
   "metadata": {},
   "outputs": [
    {
     "data": {
      "text/plain": [
       "[9, 4, 8, 62, 85, 8573, 927, 957, 727, 94, 3, 4, 5, 2, 5, 3, 5, 6, 9]"
      ]
     },
     "execution_count": 45,
     "metadata": {},
     "output_type": "execute_result"
    }
   ],
   "source": [
    "n"
   ]
  },
  {
   "cell_type": "markdown",
   "id": "4fa4121d",
   "metadata": {},
   "source": [
    "##### temperory reverse"
   ]
  },
  {
   "cell_type": "code",
   "execution_count": 46,
   "id": "6113f4a5",
   "metadata": {},
   "outputs": [
    {
     "data": {
      "text/plain": [
       "[9, 6, 5, 3, 5, 2, 5, 4, 3, 94, 727, 957, 927, 8573, 85, 62, 8, 4, 9]"
      ]
     },
     "execution_count": 46,
     "metadata": {},
     "output_type": "execute_result"
    }
   ],
   "source": [
    "n[::-1]"
   ]
  },
  {
   "cell_type": "code",
   "execution_count": 47,
   "id": "27c7f07e",
   "metadata": {},
   "outputs": [
    {
     "data": {
      "text/plain": [
       "[9, 4, 8, 62, 85, 8573, 927, 957, 727, 94, 3, 4, 5, 2, 5, 3, 5, 6, 9]"
      ]
     },
     "execution_count": 47,
     "metadata": {},
     "output_type": "execute_result"
    }
   ],
   "source": [
    "n"
   ]
  },
  {
   "cell_type": "markdown",
   "id": "e2910d8d",
   "metadata": {},
   "source": [
    "##### permanent reverse"
   ]
  },
  {
   "cell_type": "code",
   "execution_count": 48,
   "id": "4fe25c72",
   "metadata": {},
   "outputs": [],
   "source": [
    "n.reverse()"
   ]
  },
  {
   "cell_type": "code",
   "execution_count": 49,
   "id": "830df85d",
   "metadata": {},
   "outputs": [
    {
     "data": {
      "text/plain": [
       "[9, 6, 5, 3, 5, 2, 5, 4, 3, 94, 727, 957, 927, 8573, 85, 62, 8, 4, 9]"
      ]
     },
     "execution_count": 49,
     "metadata": {},
     "output_type": "execute_result"
    }
   ],
   "source": [
    "n"
   ]
  },
  {
   "cell_type": "code",
   "execution_count": 50,
   "id": "31034e5e",
   "metadata": {},
   "outputs": [
    {
     "data": {
      "text/plain": [
       "19"
      ]
     },
     "execution_count": 50,
     "metadata": {},
     "output_type": "execute_result"
    }
   ],
   "source": [
    "len(n)"
   ]
  },
  {
   "cell_type": "code",
   "execution_count": null,
   "id": "7352d1d1",
   "metadata": {},
   "outputs": [],
   "source": []
  }
 ],
 "metadata": {
  "kernelspec": {
   "display_name": "Python 3 (ipykernel)",
   "language": "python",
   "name": "python3"
  },
  "language_info": {
   "codemirror_mode": {
    "name": "ipython",
    "version": 3
   },
   "file_extension": ".py",
   "mimetype": "text/x-python",
   "name": "python",
   "nbconvert_exporter": "python",
   "pygments_lexer": "ipython3",
   "version": "3.9.7"
  }
 },
 "nbformat": 4,
 "nbformat_minor": 5
}
