{
 "cells": [
  {
   "cell_type": "code",
   "execution_count": 1,
   "id": "887723c2",
   "metadata": {},
   "outputs": [],
   "source": [
    "a='Anaconda is used to write python projects'"
   ]
  },
  {
   "cell_type": "code",
   "execution_count": 2,
   "id": "cd0c36e9",
   "metadata": {},
   "outputs": [
    {
     "data": {
      "text/plain": [
       "'Anaconda is used to write python projects'"
      ]
     },
     "execution_count": 2,
     "metadata": {},
     "output_type": "execute_result"
    }
   ],
   "source": [
    "a"
   ]
  },
  {
   "cell_type": "markdown",
   "id": "72876ae5",
   "metadata": {},
   "source": [
    "#####  Capitalize() : Returns the first letter as capital"
   ]
  },
  {
   "cell_type": "code",
   "execution_count": 3,
   "id": "7b162a9f",
   "metadata": {},
   "outputs": [
    {
     "data": {
      "text/plain": [
       "'Anaconda is used to write python projects'"
      ]
     },
     "execution_count": 3,
     "metadata": {},
     "output_type": "execute_result"
    }
   ],
   "source": [
    "a.capitalize()"
   ]
  },
  {
   "cell_type": "markdown",
   "id": "9f55737b",
   "metadata": {},
   "source": [
    "#### casefold() : converts the entire string to lower"
   ]
  },
  {
   "cell_type": "code",
   "execution_count": 4,
   "id": "4ff9958d",
   "metadata": {},
   "outputs": [
    {
     "data": {
      "text/plain": [
       "'anaconda is used to write python projects'"
      ]
     },
     "execution_count": 4,
     "metadata": {},
     "output_type": "execute_result"
    }
   ],
   "source": [
    "a.casefold()"
   ]
  },
  {
   "cell_type": "code",
   "execution_count": 21,
   "id": "bbef20bc",
   "metadata": {},
   "outputs": [
    {
     "data": {
      "text/plain": [
       "'anaconda is used to write python projects'"
      ]
     },
     "execution_count": 21,
     "metadata": {},
     "output_type": "execute_result"
    }
   ],
   "source": [
    "a.lower()"
   ]
  },
  {
   "cell_type": "markdown",
   "id": "29913cf6",
   "metadata": {},
   "source": [
    "##### count() : counts the specified substring occurence in the given string. "
   ]
  },
  {
   "cell_type": "code",
   "execution_count": 5,
   "id": "5f0053a1",
   "metadata": {},
   "outputs": [
    {
     "data": {
      "text/plain": [
       "2"
      ]
     },
     "execution_count": 5,
     "metadata": {},
     "output_type": "execute_result"
    }
   ],
   "source": [
    "a.count('a')"
   ]
  },
  {
   "cell_type": "code",
   "execution_count": 6,
   "id": "dbc9fa18",
   "metadata": {},
   "outputs": [
    {
     "data": {
      "text/plain": [
       "1"
      ]
     },
     "execution_count": 6,
     "metadata": {},
     "output_type": "execute_result"
    }
   ],
   "source": [
    "a.count('on',0,12)"
   ]
  },
  {
   "cell_type": "code",
   "execution_count": 8,
   "id": "ac79daee",
   "metadata": {},
   "outputs": [
    {
     "data": {
      "text/plain": [
       "2"
      ]
     },
     "execution_count": 8,
     "metadata": {},
     "output_type": "execute_result"
    }
   ],
   "source": [
    "a.count('on',0,50)"
   ]
  },
  {
   "cell_type": "code",
   "execution_count": 9,
   "id": "4c44265f",
   "metadata": {},
   "outputs": [
    {
     "data": {
      "text/plain": [
       "0"
      ]
     },
     "execution_count": 9,
     "metadata": {},
     "output_type": "execute_result"
    }
   ],
   "source": [
    "a.count('da',12,50)"
   ]
  },
  {
   "cell_type": "markdown",
   "id": "e5fe4a8b",
   "metadata": {},
   "source": [
    "###### find() : returns the index of the first occurance of the specified substring"
   ]
  },
  {
   "cell_type": "code",
   "execution_count": 12,
   "id": "7ac6493a",
   "metadata": {},
   "outputs": [
    {
     "data": {
      "text/plain": [
       "6"
      ]
     },
     "execution_count": 12,
     "metadata": {},
     "output_type": "execute_result"
    }
   ],
   "source": [
    "a.find('da')"
   ]
  },
  {
   "cell_type": "markdown",
   "id": "1b13e371",
   "metadata": {},
   "source": [
    "###### index() : returns the index value of the specified substring"
   ]
  },
  {
   "cell_type": "code",
   "execution_count": 15,
   "id": "c87f5ae3",
   "metadata": {},
   "outputs": [
    {
     "data": {
      "text/plain": [
       "21"
      ]
     },
     "execution_count": 15,
     "metadata": {},
     "output_type": "execute_result"
    }
   ],
   "source": [
    "a.index('r')"
   ]
  },
  {
   "cell_type": "markdown",
   "id": "b6996a05",
   "metadata": {},
   "source": [
    "##### replace(old str,new str) : replaces the old string with new string"
   ]
  },
  {
   "cell_type": "code",
   "execution_count": 23,
   "id": "8251d5ee",
   "metadata": {},
   "outputs": [
    {
     "data": {
      "text/plain": [
       "'Anacynda is used ty write pythyn pryjects'"
      ]
     },
     "execution_count": 23,
     "metadata": {},
     "output_type": "execute_result"
    }
   ],
   "source": [
    "a.replace('o','y')"
   ]
  },
  {
   "cell_type": "markdown",
   "id": "30f6a3e5",
   "metadata": {},
   "source": [
    "##### upper() : retunrs the upper case string "
   ]
  },
  {
   "cell_type": "code",
   "execution_count": 24,
   "id": "2e275a69",
   "metadata": {},
   "outputs": [
    {
     "data": {
      "text/plain": [
       "'ANACONDA IS USED TO WRITE PYTHON PROJECTS'"
      ]
     },
     "execution_count": 24,
     "metadata": {},
     "output_type": "execute_result"
    }
   ],
   "source": [
    "a.upper()"
   ]
  },
  {
   "cell_type": "markdown",
   "id": "a655c0bb",
   "metadata": {},
   "source": [
    "##### title() : returns every string's first letter in upper case"
   ]
  },
  {
   "cell_type": "code",
   "execution_count": 25,
   "id": "17e40300",
   "metadata": {},
   "outputs": [
    {
     "data": {
      "text/plain": [
       "'Anaconda Is Used To Write Python Projects'"
      ]
     },
     "execution_count": 25,
     "metadata": {},
     "output_type": "execute_result"
    }
   ],
   "source": [
    "a.title()"
   ]
  },
  {
   "cell_type": "markdown",
   "id": "a077bdf1",
   "metadata": {},
   "source": [
    "###### swapcase() : swaps the case of the string provided"
   ]
  },
  {
   "cell_type": "code",
   "execution_count": 27,
   "id": "1db71bbb",
   "metadata": {},
   "outputs": [
    {
     "data": {
      "text/plain": [
       "'aNACONDA IS USED TO WRITE PYTHON PROJECTS'"
      ]
     },
     "execution_count": 27,
     "metadata": {},
     "output_type": "execute_result"
    }
   ],
   "source": [
    "a.swapcase()"
   ]
  },
  {
   "cell_type": "markdown",
   "id": "ca02f84f",
   "metadata": {},
   "source": [
    "###### startswith(str) : returns true if the string starts with the specified substr, else false"
   ]
  },
  {
   "cell_type": "code",
   "execution_count": 28,
   "id": "17bdaf87",
   "metadata": {},
   "outputs": [
    {
     "data": {
      "text/plain": [
       "False"
      ]
     },
     "execution_count": 28,
     "metadata": {},
     "output_type": "execute_result"
    }
   ],
   "source": [
    "a.startswith('an')"
   ]
  },
  {
   "cell_type": "code",
   "execution_count": 29,
   "id": "88cd4017",
   "metadata": {},
   "outputs": [
    {
     "data": {
      "text/plain": [
       "True"
      ]
     },
     "execution_count": 29,
     "metadata": {},
     "output_type": "execute_result"
    }
   ],
   "source": [
    "a.startswith('An')"
   ]
  },
  {
   "cell_type": "code",
   "execution_count": null,
   "id": "93a52afe",
   "metadata": {},
   "outputs": [],
   "source": []
  }
 ],
 "metadata": {
  "kernelspec": {
   "display_name": "Python 3 (ipykernel)",
   "language": "python",
   "name": "python3"
  },
  "language_info": {
   "codemirror_mode": {
    "name": "ipython",
    "version": 3
   },
   "file_extension": ".py",
   "mimetype": "text/x-python",
   "name": "python",
   "nbconvert_exporter": "python",
   "pygments_lexer": "ipython3",
   "version": "3.9.7"
  }
 },
 "nbformat": 4,
 "nbformat_minor": 5
}
