{
 "cells": [
  {
   "cell_type": "code",
   "execution_count": 1,
   "id": "df3bd636",
   "metadata": {},
   "outputs": [],
   "source": [
    "a='Anaconda is used to write python projects'"
   ]
  },
  {
   "cell_type": "code",
   "execution_count": 2,
   "id": "c73acece",
   "metadata": {},
   "outputs": [
    {
     "data": {
      "text/plain": [
       "'Anaconda is used to write python projects'"
      ]
     },
     "execution_count": 2,
     "metadata": {},
     "output_type": "execute_result"
    }
   ],
   "source": [
    "a"
   ]
  },
  {
   "cell_type": "markdown",
   "id": "e5dada58",
   "metadata": {},
   "source": [
    "#####  Capitalize() : Returns the first letter as capital"
   ]
  },
  {
   "cell_type": "code",
   "execution_count": 3,
   "id": "a14778ed",
   "metadata": {},
   "outputs": [
    {
     "data": {
      "text/plain": [
       "'Anaconda is used to write python projects'"
      ]
     },
     "execution_count": 3,
     "metadata": {},
     "output_type": "execute_result"
    }
   ],
   "source": [
    "a.capitalize()"
   ]
  },
  {
   "cell_type": "markdown",
   "id": "9e009824",
   "metadata": {},
   "source": [
    "#### casefold() : converts the entire string to lower"
   ]
  },
  {
   "cell_type": "code",
   "execution_count": 4,
   "id": "e8863d70",
   "metadata": {},
   "outputs": [
    {
     "data": {
      "text/plain": [
       "'anaconda is used to write python projects'"
      ]
     },
     "execution_count": 4,
     "metadata": {},
     "output_type": "execute_result"
    }
   ],
   "source": [
    "a.casefold()"
   ]
  },
  {
   "cell_type": "code",
   "execution_count": 21,
   "id": "34f8b9b4",
   "metadata": {},
   "outputs": [
    {
     "data": {
      "text/plain": [
       "'anaconda is used to write python projects'"
      ]
     },
     "execution_count": 21,
     "metadata": {},
     "output_type": "execute_result"
    }
   ],
   "source": [
    "a.lower()"
   ]
  },
  {
   "cell_type": "markdown",
   "id": "c2757c4b",
   "metadata": {},
   "source": [
    "##### count() : counts the specified substring occurence in the given string. "
   ]
  },
  {
   "cell_type": "code",
   "execution_count": 5,
   "id": "6de257d5",
   "metadata": {},
   "outputs": [
    {
     "data": {
      "text/plain": [
       "2"
      ]
     },
     "execution_count": 5,
     "metadata": {},
     "output_type": "execute_result"
    }
   ],
   "source": [
    "a.count('a')"
   ]
  },
  {
   "cell_type": "code",
   "execution_count": 6,
   "id": "4b39bad3",
   "metadata": {},
   "outputs": [
    {
     "data": {
      "text/plain": [
       "1"
      ]
     },
     "execution_count": 6,
     "metadata": {},
     "output_type": "execute_result"
    }
   ],
   "source": [
    "a.count('on',0,12)"
   ]
  },
  {
   "cell_type": "code",
   "execution_count": 8,
   "id": "62ce1b91",
   "metadata": {},
   "outputs": [
    {
     "data": {
      "text/plain": [
       "2"
      ]
     },
     "execution_count": 8,
     "metadata": {},
     "output_type": "execute_result"
    }
   ],
   "source": [
    "a.count('on',0,50)"
   ]
  },
  {
   "cell_type": "code",
   "execution_count": 9,
   "id": "7681d232",
   "metadata": {},
   "outputs": [
    {
     "data": {
      "text/plain": [
       "0"
      ]
     },
     "execution_count": 9,
     "metadata": {},
     "output_type": "execute_result"
    }
   ],
   "source": [
    "a.count('da',12,50)"
   ]
  },
  {
   "cell_type": "markdown",
   "id": "adbd60a1",
   "metadata": {},
   "source": [
    "###### find() : returns the index of the first occurance of the specified substring"
   ]
  },
  {
   "cell_type": "code",
   "execution_count": 12,
   "id": "fe3d54c9",
   "metadata": {},
   "outputs": [
    {
     "data": {
      "text/plain": [
       "6"
      ]
     },
     "execution_count": 12,
     "metadata": {},
     "output_type": "execute_result"
    }
   ],
   "source": [
    "a.find('da')"
   ]
  },
  {
   "cell_type": "markdown",
   "id": "97537576",
   "metadata": {},
   "source": [
    "###### index() : returns the index value of the specified substring"
   ]
  },
  {
   "cell_type": "code",
   "execution_count": 15,
   "id": "2571f845",
   "metadata": {},
   "outputs": [
    {
     "data": {
      "text/plain": [
       "21"
      ]
     },
     "execution_count": 15,
     "metadata": {},
     "output_type": "execute_result"
    }
   ],
   "source": [
    "a.index('r')"
   ]
  },
  {
   "cell_type": "markdown",
   "id": "feb5467b",
   "metadata": {},
   "source": [
    "##### replace(old str,new str) : replaces the old string with new string"
   ]
  },
  {
   "cell_type": "code",
   "execution_count": 23,
   "id": "6b44b26c",
   "metadata": {},
   "outputs": [
    {
     "data": {
      "text/plain": [
       "'Anacynda is used ty write pythyn pryjects'"
      ]
     },
     "execution_count": 23,
     "metadata": {},
     "output_type": "execute_result"
    }
   ],
   "source": [
    "a.replace('o','y')"
   ]
  },
  {
   "cell_type": "markdown",
   "id": "484e115e",
   "metadata": {},
   "source": [
    "##### upper() : retunrs the upper case string "
   ]
  },
  {
   "cell_type": "code",
   "execution_count": 24,
   "id": "d640ae11",
   "metadata": {},
   "outputs": [
    {
     "data": {
      "text/plain": [
       "'ANACONDA IS USED TO WRITE PYTHON PROJECTS'"
      ]
     },
     "execution_count": 24,
     "metadata": {},
     "output_type": "execute_result"
    }
   ],
   "source": [
    "a.upper()"
   ]
  },
  {
   "cell_type": "markdown",
   "id": "1cf3a261",
   "metadata": {},
   "source": [
    "##### title() : returns every string's first letter in upper case"
   ]
  },
  {
   "cell_type": "code",
   "execution_count": 25,
   "id": "a6b92a5c",
   "metadata": {},
   "outputs": [
    {
     "data": {
      "text/plain": [
       "'Anaconda Is Used To Write Python Projects'"
      ]
     },
     "execution_count": 25,
     "metadata": {},
     "output_type": "execute_result"
    }
   ],
   "source": [
    "a.title()"
   ]
  },
  {
   "cell_type": "markdown",
   "id": "4385439c",
   "metadata": {},
   "source": [
    "###### swapcase() : swaps the case of the string provided"
   ]
  },
  {
   "cell_type": "code",
   "execution_count": 27,
   "id": "d6453505",
   "metadata": {},
   "outputs": [
    {
     "data": {
      "text/plain": [
       "'aNACONDA IS USED TO WRITE PYTHON PROJECTS'"
      ]
     },
     "execution_count": 27,
     "metadata": {},
     "output_type": "execute_result"
    }
   ],
   "source": [
    "a.swapcase()"
   ]
  },
  {
   "cell_type": "markdown",
   "id": "22af4b5d",
   "metadata": {},
   "source": [
    "###### startswith(str) : returns true if the string starts with the specified substr, else false"
   ]
  },
  {
   "cell_type": "code",
   "execution_count": 28,
   "id": "5153be8e",
   "metadata": {},
   "outputs": [
    {
     "data": {
      "text/plain": [
       "False"
      ]
     },
     "execution_count": 28,
     "metadata": {},
     "output_type": "execute_result"
    }
   ],
   "source": [
    "a.startswith('an')"
   ]
  },
  {
   "cell_type": "code",
   "execution_count": 29,
   "id": "f257fe7e",
   "metadata": {},
   "outputs": [
    {
     "data": {
      "text/plain": [
       "True"
      ]
     },
     "execution_count": 29,
     "metadata": {},
     "output_type": "execute_result"
    }
   ],
   "source": [
    "a.startswith('An')"
   ]
  },
  {
   "cell_type": "markdown",
   "id": "667703c4",
   "metadata": {},
   "source": [
    "##### split() - splits the string in substrings, using seperator as delimeter and gives output as list"
   ]
  },
  {
   "cell_type": "code",
   "execution_count": 1,
   "id": "fa66e36a",
   "metadata": {},
   "outputs": [],
   "source": [
    "q='Python OOP Concepts'"
   ]
  },
  {
   "cell_type": "code",
   "execution_count": 2,
   "id": "50347ef2",
   "metadata": {},
   "outputs": [
    {
     "data": {
      "text/plain": [
       "['Python', 'OOP', 'Concepts']"
      ]
     },
     "execution_count": 2,
     "metadata": {},
     "output_type": "execute_result"
    }
   ],
   "source": [
    "q.split()"
   ]
  },
  {
   "cell_type": "code",
   "execution_count": 3,
   "id": "71d5efb2",
   "metadata": {},
   "outputs": [
    {
     "data": {
      "text/plain": [
       "['Py', 'hon OOP Concep', 's']"
      ]
     },
     "execution_count": 3,
     "metadata": {},
     "output_type": "execute_result"
    }
   ],
   "source": [
    "q.split('t')"
   ]
  },
  {
   "cell_type": "markdown",
   "id": "a5be9827",
   "metadata": {},
   "source": [
    "##### join() -- joins the specified string with the specified string"
   ]
  },
  {
   "cell_type": "code",
   "execution_count": 4,
   "id": "ee62325a",
   "metadata": {},
   "outputs": [
    {
     "data": {
      "text/plain": [
       "'LPython OOP ConceptsLPython OOP ConceptsL'"
      ]
     },
     "execution_count": 4,
     "metadata": {},
     "output_type": "execute_result"
    }
   ],
   "source": [
    "b='LLL'\n",
    "q.join(b)"
   ]
  },
  {
   "cell_type": "code",
   "execution_count": 5,
   "id": "7eee4a86",
   "metadata": {},
   "outputs": [
    {
     "data": {
      "text/plain": [
       "'1Python OOP Concepts2Python OOP Concepts3'"
      ]
     },
     "execution_count": 5,
     "metadata": {},
     "output_type": "execute_result"
    }
   ],
   "source": [
    "q.join('123')"
   ]
  },
  {
   "cell_type": "markdown",
   "id": "d19513db",
   "metadata": {},
   "source": [
    "#### reversed() - Reverses the value of the specified substring"
   ]
  },
  {
   "cell_type": "code",
   "execution_count": 7,
   "id": "368fa3fc",
   "metadata": {},
   "outputs": [
    {
     "name": "stdout",
     "output_type": "stream",
     "text": [
      "P\n",
      "y\n",
      "t\n",
      "h\n",
      "o\n",
      "n\n",
      " \n",
      "O\n",
      "O\n",
      "P\n",
      " \n",
      "C\n",
      "o\n",
      "n\n",
      "c\n",
      "e\n",
      "p\n",
      "t\n",
      "s\n"
     ]
    }
   ],
   "source": [
    "for i in q:\n",
    "    print(i)"
   ]
  },
  {
   "cell_type": "code",
   "execution_count": 9,
   "id": "60d0d687",
   "metadata": {},
   "outputs": [
    {
     "name": "stdout",
     "output_type": "stream",
     "text": [
      "s\n",
      "t\n",
      "p\n",
      "e\n",
      "c\n",
      "n\n",
      "o\n",
      "C\n",
      " \n",
      "P\n",
      "O\n",
      "O\n",
      " \n",
      "n\n",
      "o\n",
      "h\n",
      "t\n",
      "y\n",
      "P\n"
     ]
    }
   ],
   "source": [
    "for i in reversed(q):\n",
    "    print(i)"
   ]
  },
  {
   "cell_type": "markdown",
   "id": "f2d24f76",
   "metadata": {},
   "source": [
    "##### center() - returns a centered string of length as specified. we can specify the character to be filled also"
   ]
  },
  {
   "cell_type": "code",
   "execution_count": 11,
   "id": "58b404d5",
   "metadata": {},
   "outputs": [
    {
     "data": {
      "text/plain": [
       "'          Python OOP Concepts           '"
      ]
     },
     "execution_count": 11,
     "metadata": {},
     "output_type": "execute_result"
    }
   ],
   "source": [
    "q.center(40)"
   ]
  },
  {
   "cell_type": "code",
   "execution_count": 13,
   "id": "97830b6d",
   "metadata": {},
   "outputs": [
    {
     "data": {
      "text/plain": [
       "'###############Python OOP Concepts################'"
      ]
     },
     "execution_count": 13,
     "metadata": {},
     "output_type": "execute_result"
    }
   ],
   "source": [
    "q.center(50,'#')"
   ]
  },
  {
   "cell_type": "markdown",
   "id": "3980d344",
   "metadata": {},
   "source": [
    "#### string concatenation"
   ]
  },
  {
   "cell_type": "code",
   "execution_count": 15,
   "id": "556c1fbc",
   "metadata": {},
   "outputs": [
    {
     "data": {
      "text/plain": [
       "'Python OOP ConceptsPython OOP Concepts'"
      ]
     },
     "execution_count": 15,
     "metadata": {},
     "output_type": "execute_result"
    }
   ],
   "source": [
    "q+q"
   ]
  },
  {
   "cell_type": "code",
   "execution_count": 16,
   "id": "5361e1b5",
   "metadata": {},
   "outputs": [
    {
     "data": {
      "text/plain": [
       "'Python OOP Concepts Python OOP Concepts'"
      ]
     },
     "execution_count": 16,
     "metadata": {},
     "output_type": "execute_result"
    }
   ],
   "source": [
    "q+' '+q"
   ]
  },
  {
   "cell_type": "markdown",
   "id": "6259574b",
   "metadata": {},
   "source": [
    "#### Print statement"
   ]
  },
  {
   "cell_type": "code",
   "execution_count": 1,
   "id": "04ac7e94",
   "metadata": {},
   "outputs": [],
   "source": [
    "g='I am practicing python concepts'"
   ]
  },
  {
   "cell_type": "code",
   "execution_count": 2,
   "id": "4b8239b6",
   "metadata": {},
   "outputs": [
    {
     "name": "stdout",
     "output_type": "stream",
     "text": [
      "I am practicing python concepts\n"
     ]
    }
   ],
   "source": [
    "print(g)"
   ]
  },
  {
   "cell_type": "code",
   "execution_count": 4,
   "id": "42a2ac70",
   "metadata": {},
   "outputs": [
    {
     "name": "stdout",
     "output_type": "stream",
     "text": [
      "I am practicing python concepts\n"
     ]
    }
   ],
   "source": [
    "print(\"{}\".format(g))"
   ]
  },
  {
   "cell_type": "code",
   "execution_count": 5,
   "id": "7d1e6711",
   "metadata": {},
   "outputs": [
    {
     "name": "stdout",
     "output_type": "stream",
     "text": [
      "I am practicing python concepts\n"
     ]
    }
   ],
   "source": [
    "print(f\"{g}\")"
   ]
  },
  {
   "cell_type": "code",
   "execution_count": 6,
   "id": "7cbd0e65",
   "metadata": {},
   "outputs": [],
   "source": [
    "h=\"I love to do yoga also\""
   ]
  },
  {
   "cell_type": "code",
   "execution_count": 9,
   "id": "c1a869c0",
   "metadata": {},
   "outputs": [
    {
     "name": "stdout",
     "output_type": "stream",
     "text": [
      "I am practicing python concepts I love to do yoga also\n"
     ]
    }
   ],
   "source": [
    "print(f\"{g} {h}\")"
   ]
  },
  {
   "cell_type": "code",
   "execution_count": 11,
   "id": "afac4979",
   "metadata": {},
   "outputs": [
    {
     "name": "stdout",
     "output_type": "stream",
     "text": [
      "I am practicing python concepts and I love to do yoga also.\n"
     ]
    }
   ],
   "source": [
    "print(f\"{g} and {h}.\")"
   ]
  },
  {
   "cell_type": "code",
   "execution_count": 13,
   "id": "a70b61b5",
   "metadata": {},
   "outputs": [
    {
     "name": "stdout",
     "output_type": "stream",
     "text": [
      "These days : I am practicing python concepts and I love to do yoga also\n"
     ]
    }
   ],
   "source": [
    "print(f\"These days : {g} and {h}\")"
   ]
  },
  {
   "cell_type": "code",
   "execution_count": 18,
   "id": "1da54501",
   "metadata": {},
   "outputs": [
    {
     "name": "stdout",
     "output_type": "stream",
     "text": [
      "I am practicing python concepts                    I love to do yoga also\n"
     ]
    }
   ],
   "source": [
    "print(f\"{g:50} {h}\")"
   ]
  },
  {
   "cell_type": "code",
   "execution_count": null,
   "id": "b1ab2004",
   "metadata": {},
   "outputs": [],
   "source": []
  }
 ],
 "metadata": {
  "kernelspec": {
   "display_name": "Python 3 (ipykernel)",
   "language": "python",
   "name": "python3"
  },
  "language_info": {
   "codemirror_mode": {
    "name": "ipython",
    "version": 3
   },
   "file_extension": ".py",
   "mimetype": "text/x-python",
   "name": "python",
   "nbconvert_exporter": "python",
   "pygments_lexer": "ipython3",
   "version": "3.9.7"
  }
 },
 "nbformat": 4,
 "nbformat_minor": 5
}
