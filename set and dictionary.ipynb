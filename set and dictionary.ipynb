{
 "cells": [
  {
   "cell_type": "markdown",
   "id": "b1e039a1",
   "metadata": {},
   "source": [
    "##### Set"
   ]
  },
  {
   "cell_type": "markdown",
   "id": "dd80aff0",
   "metadata": {},
   "source": [
    "set is unscriptable, we don't have any indexes to the elements of set, like in list. We will not be able to change the elements of the list once a set is defined.\n"
   ]
  },
  {
   "cell_type": "code",
   "execution_count": 1,
   "id": "9402a35a",
   "metadata": {},
   "outputs": [],
   "source": [
    "s={1,}"
   ]
  },
  {
   "cell_type": "code",
   "execution_count": 2,
   "id": "7153fe3e",
   "metadata": {},
   "outputs": [
    {
     "data": {
      "text/plain": [
       "set"
      ]
     },
     "execution_count": 2,
     "metadata": {},
     "output_type": "execute_result"
    }
   ],
   "source": [
    "type(s)"
   ]
  },
  {
   "cell_type": "code",
   "execution_count": 3,
   "id": "d2ab49e2",
   "metadata": {},
   "outputs": [],
   "source": [
    "s1={1,2,3,5}"
   ]
  },
  {
   "cell_type": "code",
   "execution_count": 4,
   "id": "e1333776",
   "metadata": {},
   "outputs": [
    {
     "data": {
      "text/plain": [
       "set"
      ]
     },
     "execution_count": 4,
     "metadata": {},
     "output_type": "execute_result"
    }
   ],
   "source": [
    "type(s1)"
   ]
  },
  {
   "cell_type": "code",
   "execution_count": 5,
   "id": "f6c9cf84",
   "metadata": {},
   "outputs": [
    {
     "ename": "TypeError",
     "evalue": "'set' object is not subscriptable",
     "output_type": "error",
     "traceback": [
      "\u001b[1;31m---------------------------------------------------------------------------\u001b[0m",
      "\u001b[1;31mTypeError\u001b[0m                                 Traceback (most recent call last)",
      "\u001b[1;32m~\\AppData\\Local\\Temp/ipykernel_6980/878419959.py\u001b[0m in \u001b[0;36m<module>\u001b[1;34m\u001b[0m\n\u001b[1;32m----> 1\u001b[1;33m \u001b[0ms\u001b[0m\u001b[1;33m[\u001b[0m\u001b[1;36m1\u001b[0m\u001b[1;33m]\u001b[0m\u001b[1;33m\u001b[0m\u001b[1;33m\u001b[0m\u001b[0m\n\u001b[0m",
      "\u001b[1;31mTypeError\u001b[0m: 'set' object is not subscriptable"
     ]
    }
   ],
   "source": [
    "s[1]"
   ]
  },
  {
   "cell_type": "markdown",
   "id": "fff3c815",
   "metadata": {},
   "source": [
    "###### converting a list into set and set into list"
   ]
  },
  {
   "cell_type": "code",
   "execution_count": 6,
   "id": "f220ce35",
   "metadata": {},
   "outputs": [],
   "source": [
    "l=['surekha','kalyani','harish']"
   ]
  },
  {
   "cell_type": "code",
   "execution_count": 7,
   "id": "af930318",
   "metadata": {},
   "outputs": [],
   "source": [
    "s3=set(l)"
   ]
  },
  {
   "cell_type": "code",
   "execution_count": 8,
   "id": "c8deb3ab",
   "metadata": {},
   "outputs": [
    {
     "data": {
      "text/plain": [
       "{'harish', 'kalyani', 'surekha'}"
      ]
     },
     "execution_count": 8,
     "metadata": {},
     "output_type": "execute_result"
    }
   ],
   "source": [
    "s3"
   ]
  },
  {
   "cell_type": "code",
   "execution_count": 11,
   "id": "9ca8faa8",
   "metadata": {},
   "outputs": [],
   "source": [
    "l1=list(s3)"
   ]
  },
  {
   "cell_type": "code",
   "execution_count": 12,
   "id": "0eb4715a",
   "metadata": {},
   "outputs": [
    {
     "data": {
      "text/plain": [
       "['harish', 'kalyani', 'surekha']"
      ]
     },
     "execution_count": 12,
     "metadata": {},
     "output_type": "execute_result"
    }
   ],
   "source": [
    "l1"
   ]
  },
  {
   "cell_type": "markdown",
   "id": "5a615d0a",
   "metadata": {},
   "source": [
    "###### dictionary - key-value pairs"
   ]
  },
  {
   "cell_type": "code",
   "execution_count": 13,
   "id": "570fe35a",
   "metadata": {},
   "outputs": [],
   "source": [
    "d={}"
   ]
  },
  {
   "cell_type": "code",
   "execution_count": 14,
   "id": "abf3d36e",
   "metadata": {},
   "outputs": [
    {
     "data": {
      "text/plain": [
       "dict"
      ]
     },
     "execution_count": 14,
     "metadata": {},
     "output_type": "execute_result"
    }
   ],
   "source": [
    "type(d)"
   ]
  },
  {
   "cell_type": "markdown",
   "id": "78c84b01",
   "metadata": {},
   "source": [
    "#### defining a dictionary in 2 ways"
   ]
  },
  {
   "cell_type": "markdown",
   "id": "a3a03e19",
   "metadata": {},
   "source": [
    "1) d={key1:value1,key2:value2,key3:value3}\n",
    "\n",
    "2) keys=(set of tuple)\n",
    "   values=(set of tuple)\n",
    "   d=dict.fromkeys(keys,values) or d=dict.fromkeys(keys)\n",
    "   \n",
    "Keys - keys may have alphanumeric characters and special characters _ and &. but it is recommended to avoid special characters to reduce ambiguity\n"
   ]
  },
  {
   "cell_type": "code",
   "execution_count": 15,
   "id": "59711d1b",
   "metadata": {},
   "outputs": [],
   "source": [
    "d1={1:10,2:20,3:30,7:45}"
   ]
  },
  {
   "cell_type": "code",
   "execution_count": 16,
   "id": "0e47bbdf",
   "metadata": {},
   "outputs": [
    {
     "data": {
      "text/plain": [
       "{1: 10, 2: 20, 3: 30, 7: 45}"
      ]
     },
     "execution_count": 16,
     "metadata": {},
     "output_type": "execute_result"
    }
   ],
   "source": [
    "d1"
   ]
  },
  {
   "cell_type": "code",
   "execution_count": 17,
   "id": "3f20d9dd",
   "metadata": {},
   "outputs": [],
   "source": [
    "d2={'key1':'Surekha','key2':'Rajesh'}"
   ]
  },
  {
   "cell_type": "code",
   "execution_count": 18,
   "id": "752482e9",
   "metadata": {},
   "outputs": [
    {
     "data": {
      "text/plain": [
       "{'key1': 'Surekha', 'key2': 'Rajesh'}"
      ]
     },
     "execution_count": 18,
     "metadata": {},
     "output_type": "execute_result"
    }
   ],
   "source": [
    "d2"
   ]
  },
  {
   "cell_type": "code",
   "execution_count": 19,
   "id": "3b77ea77",
   "metadata": {},
   "outputs": [
    {
     "data": {
      "text/plain": [
       "dict"
      ]
     },
     "execution_count": 19,
     "metadata": {},
     "output_type": "execute_result"
    }
   ],
   "source": [
    "type(d2)"
   ]
  },
  {
   "cell_type": "code",
   "execution_count": 20,
   "id": "dc53eb18",
   "metadata": {},
   "outputs": [
    {
     "data": {
      "text/plain": [
       "dict_items([('key1', 'Surekha'), ('key2', 'Rajesh')])"
      ]
     },
     "execution_count": 20,
     "metadata": {},
     "output_type": "execute_result"
    }
   ],
   "source": [
    "d2.items()"
   ]
  },
  {
   "cell_type": "code",
   "execution_count": 21,
   "id": "f8ba34c6",
   "metadata": {},
   "outputs": [
    {
     "data": {
      "text/plain": [
       "dict_keys(['key1', 'key2'])"
      ]
     },
     "execution_count": 21,
     "metadata": {},
     "output_type": "execute_result"
    }
   ],
   "source": [
    "d2.keys()"
   ]
  },
  {
   "cell_type": "code",
   "execution_count": 22,
   "id": "3fa7cf5e",
   "metadata": {},
   "outputs": [
    {
     "data": {
      "text/plain": [
       "dict_values(['Surekha', 'Rajesh'])"
      ]
     },
     "execution_count": 22,
     "metadata": {},
     "output_type": "execute_result"
    }
   ],
   "source": [
    "d2.values()"
   ]
  },
  {
   "cell_type": "code",
   "execution_count": 24,
   "id": "471163ea",
   "metadata": {},
   "outputs": [
    {
     "name": "stdout",
     "output_type": "stream",
     "text": [
      "key1\n",
      "key2\n"
     ]
    }
   ],
   "source": [
    "for i in d2:\n",
    "    print(i)"
   ]
  },
  {
   "cell_type": "code",
   "execution_count": 25,
   "id": "3353fda6",
   "metadata": {},
   "outputs": [
    {
     "name": "stdout",
     "output_type": "stream",
     "text": [
      "('key1', 'Surekha')\n",
      "('key2', 'Rajesh')\n"
     ]
    }
   ],
   "source": [
    "for i in d2.items():\n",
    "    print(i)"
   ]
  },
  {
   "cell_type": "markdown",
   "id": "826b63fe",
   "metadata": {},
   "source": [
    "if we print dictionary directly it will print the key, value pairs in list type. In order to over come that we use loop to print the key value pairs seperately"
   ]
  },
  {
   "cell_type": "code",
   "execution_count": 26,
   "id": "5e02b353",
   "metadata": {},
   "outputs": [
    {
     "name": "stdout",
     "output_type": "stream",
     "text": [
      "key1 Surekha\n",
      "key2 Rajesh\n"
     ]
    }
   ],
   "source": [
    "for i,j in d2.items():\n",
    "    print(f\"{i} {j}\")"
   ]
  },
  {
   "cell_type": "code",
   "execution_count": 27,
   "id": "ac7d6e59",
   "metadata": {},
   "outputs": [
    {
     "name": "stdout",
     "output_type": "stream",
     "text": [
      "key1\n",
      "key2\n"
     ]
    }
   ],
   "source": [
    "for i in d2.keys():\n",
    "    print(i)"
   ]
  },
  {
   "cell_type": "code",
   "execution_count": 28,
   "id": "99b445c3",
   "metadata": {},
   "outputs": [
    {
     "name": "stdout",
     "output_type": "stream",
     "text": [
      "Surekha\n",
      "Rajesh\n"
     ]
    }
   ],
   "source": [
    "for i in d2.values():\n",
    "    print(i)"
   ]
  },
  {
   "cell_type": "markdown",
   "id": "d4d353cb",
   "metadata": {},
   "source": [
    "get() -to get the values from dictionary without error"
   ]
  },
  {
   "cell_type": "code",
   "execution_count": 29,
   "id": "6152f269",
   "metadata": {},
   "outputs": [
    {
     "data": {
      "text/plain": [
       "'Surekha'"
      ]
     },
     "execution_count": 29,
     "metadata": {},
     "output_type": "execute_result"
    }
   ],
   "source": [
    "d2.get('key1','not available')"
   ]
  },
  {
   "cell_type": "code",
   "execution_count": 30,
   "id": "68d2966b",
   "metadata": {},
   "outputs": [
    {
     "data": {
      "text/plain": [
       "'not available'"
      ]
     },
     "execution_count": 30,
     "metadata": {},
     "output_type": "execute_result"
    }
   ],
   "source": [
    "d2.get('key12','not available')"
   ]
  },
  {
   "cell_type": "markdown",
   "id": "64dde29d",
   "metadata": {},
   "source": [
    "We can not specify a list in key as it is a subscriptable object"
   ]
  },
  {
   "cell_type": "code",
   "execution_count": 31,
   "id": "cf25fa80",
   "metadata": {
    "scrolled": true
   },
   "outputs": [
    {
     "ename": "TypeError",
     "evalue": "unhashable type: 'list'",
     "output_type": "error",
     "traceback": [
      "\u001b[1;31m---------------------------------------------------------------------------\u001b[0m",
      "\u001b[1;31mTypeError\u001b[0m                                 Traceback (most recent call last)",
      "\u001b[1;32m~\\AppData\\Local\\Temp/ipykernel_6980/3487393433.py\u001b[0m in \u001b[0;36m<module>\u001b[1;34m\u001b[0m\n\u001b[1;32m----> 1\u001b[1;33m \u001b[0md3\u001b[0m\u001b[1;33m=\u001b[0m\u001b[1;33m{\u001b[0m\u001b[1;36m1\u001b[0m\u001b[1;33m:\u001b[0m\u001b[1;36m4\u001b[0m\u001b[1;33m,\u001b[0m\u001b[1;36m2\u001b[0m\u001b[1;33m:\u001b[0m\u001b[1;34m'run'\u001b[0m\u001b[1;33m,\u001b[0m\u001b[1;33m[\u001b[0m\u001b[1;36m1\u001b[0m\u001b[1;33m,\u001b[0m\u001b[1;36m2\u001b[0m\u001b[1;33m,\u001b[0m\u001b[1;36m3\u001b[0m\u001b[1;33m]\u001b[0m\u001b[1;33m:\u001b[0m\u001b[1;34m'rat'\u001b[0m\u001b[1;33m,\u001b[0m\u001b[1;33m(\u001b[0m\u001b[1;36m5\u001b[0m\u001b[1;33m,\u001b[0m\u001b[1;36m77\u001b[0m\u001b[1;33m,\u001b[0m\u001b[1;36m13\u001b[0m\u001b[1;33m)\u001b[0m\u001b[1;33m:\u001b[0m\u001b[1;33m[\u001b[0m\u001b[1;34m'surekha'\u001b[0m\u001b[1;33m,\u001b[0m\u001b[1;34m'rajesh'\u001b[0m\u001b[1;33m]\u001b[0m\u001b[1;33m,\u001b[0m\u001b[1;33m(\u001b[0m\u001b[1;36m43\u001b[0m\u001b[1;33m,\u001b[0m\u001b[1;36m65\u001b[0m\u001b[1;33m,\u001b[0m\u001b[1;36m23\u001b[0m\u001b[1;33m)\u001b[0m\u001b[1;33m:\u001b[0m\u001b[1;34m'Valiveti'\u001b[0m\u001b[1;33m}\u001b[0m\u001b[1;33m\u001b[0m\u001b[1;33m\u001b[0m\u001b[0m\n\u001b[0m",
      "\u001b[1;31mTypeError\u001b[0m: unhashable type: 'list'"
     ]
    }
   ],
   "source": [
    "d3={1:4,2:'run',[1,2,3]:'rat',(5,77,13):['surekha','rajesh'],(43,65,23):'Valiveti'}"
   ]
  },
  {
   "cell_type": "code",
   "execution_count": 33,
   "id": "b5560230",
   "metadata": {},
   "outputs": [],
   "source": [
    "d3={1:4,2:'run',3:'rat',(5,77,13):['surekha','rajesh'],(43,65,23):'Valiveti'}"
   ]
  },
  {
   "cell_type": "code",
   "execution_count": 37,
   "id": "5bc7f89f",
   "metadata": {},
   "outputs": [],
   "source": [
    "stock={'Jeans':30,'tops':100,'kurti':45}"
   ]
  },
  {
   "cell_type": "code",
   "execution_count": 38,
   "id": "25942714",
   "metadata": {},
   "outputs": [
    {
     "data": {
      "text/plain": [
       "dict_items([('Jeans', 30), ('tops', 100), ('kurti', 45)])"
      ]
     },
     "execution_count": 38,
     "metadata": {},
     "output_type": "execute_result"
    }
   ],
   "source": [
    "stock.items()"
   ]
  },
  {
   "cell_type": "code",
   "execution_count": 40,
   "id": "b8bfe33a",
   "metadata": {},
   "outputs": [
    {
     "data": {
      "text/plain": [
       "dict_keys(['Jeans', 'tops', 'kurti'])"
      ]
     },
     "execution_count": 40,
     "metadata": {},
     "output_type": "execute_result"
    }
   ],
   "source": [
    "stock.keys()"
   ]
  },
  {
   "cell_type": "code",
   "execution_count": 41,
   "id": "ebeaf235",
   "metadata": {},
   "outputs": [
    {
     "data": {
      "text/plain": [
       "dict_values([30, 100, 45])"
      ]
     },
     "execution_count": 41,
     "metadata": {},
     "output_type": "execute_result"
    }
   ],
   "source": [
    "stock.values()"
   ]
  },
  {
   "cell_type": "code",
   "execution_count": 42,
   "id": "509b1544",
   "metadata": {},
   "outputs": [
    {
     "data": {
      "text/plain": [
       "100"
      ]
     },
     "execution_count": 42,
     "metadata": {},
     "output_type": "execute_result"
    }
   ],
   "source": [
    "stock['tops']"
   ]
  },
  {
   "cell_type": "markdown",
   "id": "c9bcbf52",
   "metadata": {},
   "source": [
    "adding and deleting key-value pairs"
   ]
  },
  {
   "cell_type": "code",
   "execution_count": 43,
   "id": "c99d5fed",
   "metadata": {},
   "outputs": [
    {
     "data": {
      "text/plain": [
       "{'Jeans': 30, 'tops': 100, 'kurti': 45}"
      ]
     },
     "execution_count": 43,
     "metadata": {},
     "output_type": "execute_result"
    }
   ],
   "source": [
    "stock"
   ]
  },
  {
   "cell_type": "code",
   "execution_count": 44,
   "id": "d896dd57",
   "metadata": {},
   "outputs": [],
   "source": [
    "stock['dupatta']=50"
   ]
  },
  {
   "cell_type": "code",
   "execution_count": 45,
   "id": "593abf56",
   "metadata": {},
   "outputs": [
    {
     "data": {
      "text/plain": [
       "{'Jeans': 30, 'tops': 100, 'kurti': 45, 'dupatta': 50}"
      ]
     },
     "execution_count": 45,
     "metadata": {},
     "output_type": "execute_result"
    }
   ],
   "source": [
    "stock"
   ]
  },
  {
   "cell_type": "code",
   "execution_count": 46,
   "id": "cd996bfe",
   "metadata": {},
   "outputs": [],
   "source": [
    "stock['Jeans']=98"
   ]
  },
  {
   "cell_type": "code",
   "execution_count": 47,
   "id": "16e0dcef",
   "metadata": {},
   "outputs": [
    {
     "data": {
      "text/plain": [
       "{'Jeans': 98, 'tops': 100, 'kurti': 45, 'dupatta': 50}"
      ]
     },
     "execution_count": 47,
     "metadata": {},
     "output_type": "execute_result"
    }
   ],
   "source": [
    "stock"
   ]
  },
  {
   "cell_type": "code",
   "execution_count": 49,
   "id": "815f6811",
   "metadata": {},
   "outputs": [],
   "source": [
    "del stock['kurti']"
   ]
  },
  {
   "cell_type": "code",
   "execution_count": 50,
   "id": "b200d87b",
   "metadata": {},
   "outputs": [
    {
     "data": {
      "text/plain": [
       "{'Jeans': 98, 'tops': 100, 'dupatta': 50}"
      ]
     },
     "execution_count": 50,
     "metadata": {},
     "output_type": "execute_result"
    }
   ],
   "source": [
    "stock"
   ]
  },
  {
   "cell_type": "code",
   "execution_count": 51,
   "id": "68b037a2",
   "metadata": {},
   "outputs": [],
   "source": [
    "stock['palzo']=23"
   ]
  },
  {
   "cell_type": "code",
   "execution_count": 52,
   "id": "adb74780",
   "metadata": {},
   "outputs": [
    {
     "data": {
      "text/plain": [
       "{'Jeans': 98, 'tops': 100, 'dupatta': 50, 'palzo': 23}"
      ]
     },
     "execution_count": 52,
     "metadata": {},
     "output_type": "execute_result"
    }
   ],
   "source": [
    "stock"
   ]
  },
  {
   "cell_type": "code",
   "execution_count": 53,
   "id": "f7333b9c",
   "metadata": {},
   "outputs": [
    {
     "ename": "KeyError",
     "evalue": "'kurti'",
     "output_type": "error",
     "traceback": [
      "\u001b[1;31m---------------------------------------------------------------------------\u001b[0m",
      "\u001b[1;31mKeyError\u001b[0m                                  Traceback (most recent call last)",
      "\u001b[1;32m~\\AppData\\Local\\Temp/ipykernel_6980/623959365.py\u001b[0m in \u001b[0;36m<module>\u001b[1;34m\u001b[0m\n\u001b[1;32m----> 1\u001b[1;33m \u001b[0mstock\u001b[0m\u001b[1;33m[\u001b[0m\u001b[1;34m'kurti'\u001b[0m\u001b[1;33m]\u001b[0m\u001b[1;33m\u001b[0m\u001b[1;33m\u001b[0m\u001b[0m\n\u001b[0m",
      "\u001b[1;31mKeyError\u001b[0m: 'kurti'"
     ]
    }
   ],
   "source": [
    "stock['kurti']"
   ]
  },
  {
   "cell_type": "code",
   "execution_count": 54,
   "id": "624f2f83",
   "metadata": {},
   "outputs": [
    {
     "data": {
      "text/plain": [
       "'n/a'"
      ]
     },
     "execution_count": 54,
     "metadata": {},
     "output_type": "execute_result"
    }
   ],
   "source": [
    "stock.get('kurti','n/a')"
   ]
  },
  {
   "cell_type": "code",
   "execution_count": 55,
   "id": "dbdef0ac",
   "metadata": {},
   "outputs": [
    {
     "data": {
      "text/plain": [
       "98"
      ]
     },
     "execution_count": 55,
     "metadata": {},
     "output_type": "execute_result"
    }
   ],
   "source": [
    "stock.get('Jeans','n/a')"
   ]
  },
  {
   "cell_type": "code",
   "execution_count": 56,
   "id": "509a639b",
   "metadata": {},
   "outputs": [
    {
     "name": "stdout",
     "output_type": "stream",
     "text": [
      "Jeans\n",
      "tops\n",
      "dupatta\n",
      "palzo\n"
     ]
    }
   ],
   "source": [
    "for i in stock:\n",
    "    print(i)"
   ]
  },
  {
   "cell_type": "code",
   "execution_count": 57,
   "id": "d932aced",
   "metadata": {},
   "outputs": [
    {
     "name": "stdout",
     "output_type": "stream",
     "text": [
      "Jeans\n",
      "tops\n",
      "dupatta\n",
      "palzo\n"
     ]
    }
   ],
   "source": [
    "for i in stock.keys():\n",
    "    print(i)"
   ]
  },
  {
   "cell_type": "code",
   "execution_count": 58,
   "id": "3f868434",
   "metadata": {},
   "outputs": [
    {
     "name": "stdout",
     "output_type": "stream",
     "text": [
      "98\n",
      "100\n",
      "50\n",
      "23\n"
     ]
    }
   ],
   "source": [
    "for i in stock.values():\n",
    "    print(i)"
   ]
  },
  {
   "cell_type": "code",
   "execution_count": 59,
   "id": "5a797377",
   "metadata": {},
   "outputs": [
    {
     "name": "stdout",
     "output_type": "stream",
     "text": [
      "('Jeans', 98)\n",
      "('tops', 100)\n",
      "('dupatta', 50)\n",
      "('palzo', 23)\n"
     ]
    }
   ],
   "source": [
    "for i in stock.items():\n",
    "    print(i)"
   ]
  },
  {
   "cell_type": "code",
   "execution_count": 61,
   "id": "b4750a01",
   "metadata": {},
   "outputs": [
    {
     "name": "stdout",
     "output_type": "stream",
     "text": [
      "Jeans  98\n",
      "tops  100\n",
      "dupatta  50\n",
      "palzo  23\n"
     ]
    }
   ],
   "source": [
    "for k,l in stock.items():\n",
    "    print(f\"{k}  {l}\")"
   ]
  },
  {
   "cell_type": "markdown",
   "id": "6ddd9cbe",
   "metadata": {},
   "source": [
    "###### nested dictionary"
   ]
  },
  {
   "cell_type": "code",
   "execution_count": 62,
   "id": "53e46f1e",
   "metadata": {},
   "outputs": [],
   "source": [
    "h={'details':['Surekha','Female',28,'o +ve']}"
   ]
  },
  {
   "cell_type": "code",
   "execution_count": 63,
   "id": "e83baf41",
   "metadata": {},
   "outputs": [
    {
     "data": {
      "text/plain": [
       "['Surekha', 'Female', 28, 'o +ve']"
      ]
     },
     "execution_count": 63,
     "metadata": {},
     "output_type": "execute_result"
    }
   ],
   "source": [
    "h['details']"
   ]
  },
  {
   "cell_type": "code",
   "execution_count": 64,
   "id": "41a4624f",
   "metadata": {},
   "outputs": [],
   "source": [
    "details={'Name':'Surekha','Gender':'Female','Age':28,'Bloodgroup':'o +ve'}"
   ]
  },
  {
   "cell_type": "code",
   "execution_count": 65,
   "id": "83ebbe5b",
   "metadata": {},
   "outputs": [
    {
     "data": {
      "text/plain": [
       "'Surekha'"
      ]
     },
     "execution_count": 65,
     "metadata": {},
     "output_type": "execute_result"
    }
   ],
   "source": [
    "details['Name']"
   ]
  },
  {
   "cell_type": "code",
   "execution_count": 66,
   "id": "cd6809ba",
   "metadata": {},
   "outputs": [
    {
     "data": {
      "text/plain": [
       "{'details': ['Surekha', 'Female', 28, 'o +ve']}"
      ]
     },
     "execution_count": 66,
     "metadata": {},
     "output_type": "execute_result"
    }
   ],
   "source": [
    "h"
   ]
  },
  {
   "cell_type": "code",
   "execution_count": 67,
   "id": "3e49f79f",
   "metadata": {},
   "outputs": [
    {
     "data": {
      "text/plain": [
       "['Surekha', 'Female', 28, 'o +ve']"
      ]
     },
     "execution_count": 67,
     "metadata": {},
     "output_type": "execute_result"
    }
   ],
   "source": [
    "h['details']"
   ]
  },
  {
   "cell_type": "code",
   "execution_count": 68,
   "id": "dcb86dfa",
   "metadata": {},
   "outputs": [
    {
     "ename": "IndexError",
     "evalue": "list index out of range",
     "output_type": "error",
     "traceback": [
      "\u001b[1;31m---------------------------------------------------------------------------\u001b[0m",
      "\u001b[1;31mIndexError\u001b[0m                                Traceback (most recent call last)",
      "\u001b[1;32m~\\AppData\\Local\\Temp/ipykernel_6980/3905449165.py\u001b[0m in \u001b[0;36m<module>\u001b[1;34m\u001b[0m\n\u001b[1;32m----> 1\u001b[1;33m \u001b[0mh\u001b[0m\u001b[1;33m[\u001b[0m\u001b[1;34m'details'\u001b[0m\u001b[1;33m]\u001b[0m\u001b[1;33m[\u001b[0m\u001b[1;36m4\u001b[0m\u001b[1;33m]\u001b[0m\u001b[1;33m\u001b[0m\u001b[1;33m\u001b[0m\u001b[0m\n\u001b[0m",
      "\u001b[1;31mIndexError\u001b[0m: list index out of range"
     ]
    }
   ],
   "source": [
    "h['details'][4]"
   ]
  },
  {
   "cell_type": "code",
   "execution_count": 69,
   "id": "46f3544b",
   "metadata": {},
   "outputs": [
    {
     "data": {
      "text/plain": [
       "'o +ve'"
      ]
     },
     "execution_count": 69,
     "metadata": {},
     "output_type": "execute_result"
    }
   ],
   "source": [
    "h['details'][3]"
   ]
  },
  {
   "cell_type": "markdown",
   "id": "bc8383dc",
   "metadata": {},
   "source": [
    "dictionary concatenation is not possible"
   ]
  },
  {
   "cell_type": "code",
   "execution_count": 70,
   "id": "f04d4653",
   "metadata": {},
   "outputs": [],
   "source": [
    "g={'d':('Arun','kumar'),3:5,'Name':'Surekha',(1,2,3):'Gopi'}"
   ]
  },
  {
   "cell_type": "code",
   "execution_count": 71,
   "id": "8674104b",
   "metadata": {},
   "outputs": [
    {
     "ename": "TypeError",
     "evalue": "unsupported operand type(s) for +: 'dict' and 'dict'",
     "output_type": "error",
     "traceback": [
      "\u001b[1;31m---------------------------------------------------------------------------\u001b[0m",
      "\u001b[1;31mTypeError\u001b[0m                                 Traceback (most recent call last)",
      "\u001b[1;32m~\\AppData\\Local\\Temp/ipykernel_6980/2002422323.py\u001b[0m in \u001b[0;36m<module>\u001b[1;34m\u001b[0m\n\u001b[1;32m----> 1\u001b[1;33m \u001b[0mh\u001b[0m\u001b[1;33m+\u001b[0m\u001b[0mg\u001b[0m\u001b[1;33m\u001b[0m\u001b[1;33m\u001b[0m\u001b[0m\n\u001b[0m",
      "\u001b[1;31mTypeError\u001b[0m: unsupported operand type(s) for +: 'dict' and 'dict'"
     ]
    }
   ],
   "source": [
    "h+g"
   ]
  },
  {
   "cell_type": "code",
   "execution_count": 72,
   "id": "09553766",
   "metadata": {},
   "outputs": [],
   "source": [
    "l=[1,2]\n",
    "k=[3,6]\n",
    "c=l+k"
   ]
  },
  {
   "cell_type": "code",
   "execution_count": 73,
   "id": "9210d7a1",
   "metadata": {},
   "outputs": [
    {
     "data": {
      "text/plain": [
       "[1, 2, 3, 6]"
      ]
     },
     "execution_count": 73,
     "metadata": {},
     "output_type": "execute_result"
    }
   ],
   "source": [
    "c"
   ]
  },
  {
   "cell_type": "code",
   "execution_count": 74,
   "id": "709baa5b",
   "metadata": {},
   "outputs": [
    {
     "data": {
      "text/plain": [
       "{'hp': 5, 'lenovo': 5, 'asus': 5, 'dell': 5}"
      ]
     },
     "execution_count": 74,
     "metadata": {},
     "output_type": "execute_result"
    }
   ],
   "source": [
    "keys=('hp','lenovo','asus','dell')\n",
    "numberofitems=5\n",
    "dc=dict.fromkeys(keys,numberofitems)\n",
    "dc"
   ]
  },
  {
   "cell_type": "code",
   "execution_count": 75,
   "id": "aae63d5c",
   "metadata": {},
   "outputs": [
    {
     "data": {
      "text/plain": [
       "5"
      ]
     },
     "execution_count": 75,
     "metadata": {},
     "output_type": "execute_result"
    }
   ],
   "source": [
    "dc['hp']"
   ]
  },
  {
   "cell_type": "code",
   "execution_count": 76,
   "id": "69a924fe",
   "metadata": {},
   "outputs": [],
   "source": [
    "dc['lenovo']=56"
   ]
  },
  {
   "cell_type": "code",
   "execution_count": 77,
   "id": "9ce1ba1d",
   "metadata": {},
   "outputs": [
    {
     "data": {
      "text/plain": [
       "{'hp': 5, 'lenovo': 56, 'asus': 5, 'dell': 5}"
      ]
     },
     "execution_count": 77,
     "metadata": {},
     "output_type": "execute_result"
    }
   ],
   "source": [
    "dc"
   ]
  },
  {
   "cell_type": "code",
   "execution_count": 78,
   "id": "d890ef2c",
   "metadata": {},
   "outputs": [],
   "source": [
    "dc2=dict.fromkeys(keys)"
   ]
  },
  {
   "cell_type": "code",
   "execution_count": 79,
   "id": "5cfeb8d7",
   "metadata": {},
   "outputs": [
    {
     "data": {
      "text/plain": [
       "{'hp': None, 'lenovo': None, 'asus': None, 'dell': None}"
      ]
     },
     "execution_count": 79,
     "metadata": {},
     "output_type": "execute_result"
    }
   ],
   "source": [
    "dc2"
   ]
  },
  {
   "cell_type": "code",
   "execution_count": 80,
   "id": "a33e4175",
   "metadata": {},
   "outputs": [],
   "source": [
    "dc2['hp']=3"
   ]
  },
  {
   "cell_type": "code",
   "execution_count": 81,
   "id": "87ce7e13",
   "metadata": {},
   "outputs": [
    {
     "data": {
      "text/plain": [
       "{'hp': 3, 'lenovo': None, 'asus': None, 'dell': None}"
      ]
     },
     "execution_count": 81,
     "metadata": {},
     "output_type": "execute_result"
    }
   ],
   "source": [
    "dc2"
   ]
  },
  {
   "cell_type": "code",
   "execution_count": null,
   "id": "8afad2b9",
   "metadata": {},
   "outputs": [],
   "source": []
  }
 ],
 "metadata": {
  "kernelspec": {
   "display_name": "Python 3 (ipykernel)",
   "language": "python",
   "name": "python3"
  },
  "language_info": {
   "codemirror_mode": {
    "name": "ipython",
    "version": 3
   },
   "file_extension": ".py",
   "mimetype": "text/x-python",
   "name": "python",
   "nbconvert_exporter": "python",
   "pygments_lexer": "ipython3",
   "version": "3.9.7"
  }
 },
 "nbformat": 4,
 "nbformat_minor": 5
}
